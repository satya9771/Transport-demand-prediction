{
 "cells": [
  {
   "cell_type": "markdown",
   "id": "172de1c9",
   "metadata": {},
   "source": [
    "# Project Name - Transport Demand Prediction"
   ]
  },
  {
   "cell_type": "markdown",
   "id": "7a50af71",
   "metadata": {},
   "source": [
    "# Project Type - Regression"
   ]
  },
  {
   "cell_type": "markdown",
   "id": "52f9b1ac",
   "metadata": {},
   "source": [
    "# Project Summary -"
   ]
  },
  {
   "cell_type": "markdown",
   "id": "b91b5969",
   "metadata": {},
   "source": [
    "The project focuses on building a predictive model for Mobiticket, forecasting seat sales on specific routes, dates, and times. These routes originate from 14 towns toward Lake Victoria, concluding in Nairobi. Travel duration spans 8-9 hours to Nairobi outskirts and 2-3 additional hours to the main bus terminal. Passenger decisions are influenced by traffic conditions en route to Nairobi and toward their final destinations within the city. This insight aids in service planning and operational optimization for Mobiticket.\n",
    "\n",
    "To enhance model performance, additional features are incorporated, aiming to provide pertinent information for improved predictions. Multiple regression models are applied to the dataset for testing, facilitating a thorough evaluation of predictive capabilities. Significant features identified by the model are highlighted, shedding light on key determinants of seat sales. This understanding enables stakeholders to grasp influential factors driving seat sales without reliance on copy-paste methods.\n",
    "\n",
    "\n",
    "\n",
    "\n",
    "\n",
    "\n"
   ]
  },
  {
   "cell_type": "markdown",
   "id": "988f45b0",
   "metadata": {},
   "source": [
    "GitHub Link -"
   ]
  },
  {
   "cell_type": "markdown",
   "id": "aa447120",
   "metadata": {},
   "source": [
    "# Problem Description"
   ]
  },
  {
   "cell_type": "markdown",
   "id": "bb2ffccb",
   "metadata": {},
   "source": [
    "The challenge entails building a predictive model for Mobiticket to estimate seat sales for each ride, specific to routes, dates, and times. There are 14 routes originating from towns northwest of Nairobi towards Lake Victoria, all ending in Nairobi. The journey from these towns to the outskirts of Nairobi takes around 8 to 9 hours, with an additional 2 to 3 hours to reach the main bus terminal in the Central Business District, where most passengers disembark. The three stops made by all routes within Nairobi are Kawangware (the first stop in the outskirts), Westlands, and Afya Centre (the main terminal). Nairobi traffic affects passengers not only during their journey into the city but also as they continue to their final destinations within Nairobi. This traffic can impact passenger decisions, possibly deterring them from buses arriving during peak hours or reflecting movement patterns influenced by various factors such as business hours, cultural events, political events, and holidays."
   ]
  },
  {
   "cell_type": "markdown",
   "id": "139c875d",
   "metadata": {},
   "source": [
    "# Data Description\n"
   ]
  },
  {
   "cell_type": "markdown",
   "id": "e3dbe0c8",
   "metadata": {},
   "source": [
    "Nairobi Transport Data.csv (zipped) is the dataset of tickets purchased from Mobiticket for the 14 routes from “up country” into Nairobi between 17 October 2017 and 20 April 2018. This dataset includes the variables: ride_id, seat_number, payment_method, payment_receipt, travel_date, travel_time, travel_from, travel_to, car_type, max_capacity.\n",
    "Uber Movement traffic data can be accessed here. Data is available for Nairobi through June 2018. Uber Movement provided historic hourly travel time between any two points in Nairobi. Any tables that are extracted from the Uber Movement platform can be used in your model.\n"
   ]
  },
  {
   "cell_type": "markdown",
   "id": "f24ed31f",
   "metadata": {},
   "source": [
    "Variables description:\n",
    "    \n",
    "ride_id: unique ID of a vehicle on a specific route on a specific day and time.\n",
    "    \n",
    "seat_number: seat assigned to ticket\n",
    "    \n",
    "payment_method: method used by customer to purchase ticket from Mobiticket (cash or Mpesa)\n",
    "    \n",
    "payment_receipt: unique id number for ticket purchased from Mobiticket\n",
    "    \n",
    "travel_date: date of ride departure. (MM/DD/YYYY)\n",
    "    \n",
    "travel_time: scheduled departure time of ride. Rides generally depart on time. (hh:mm)\n",
    "    \n",
    "travel_from: town from which ride originated\n",
    "    \n",
    "travel_to: destination of ride. All rides are to Nairobi.\n",
    "    \n",
    "car_type: vehicle type (shuttle or bus)\n",
    "    \n",
    "max_capacity: number of seats on the vehicle\n"
   ]
  },
  {
   "cell_type": "code",
   "execution_count": 1,
   "id": "5f471dd8",
   "metadata": {},
   "outputs": [],
   "source": [
    "# Import Libraries\n",
    "import numpy as np\n",
    "import pandas as pd\n",
    "import matplotlib.pyplot as plt\n",
    "import seaborn as sns\n",
    "from scipy import stats\n",
    "     "
   ]
  },
  {
   "cell_type": "code",
   "execution_count": 2,
   "id": "d2083e92",
   "metadata": {},
   "outputs": [],
   "source": [
    "\n",
    "# Load Dataset\n",
    "df = pd.read_csv('train_revised.csv')\n"
   ]
  },
  {
   "cell_type": "code",
   "execution_count": 3,
   "id": "b94775e2",
   "metadata": {},
   "outputs": [
    {
     "data": {
      "text/html": [
       "<div>\n",
       "<style scoped>\n",
       "    .dataframe tbody tr th:only-of-type {\n",
       "        vertical-align: middle;\n",
       "    }\n",
       "\n",
       "    .dataframe tbody tr th {\n",
       "        vertical-align: top;\n",
       "    }\n",
       "\n",
       "    .dataframe thead th {\n",
       "        text-align: right;\n",
       "    }\n",
       "</style>\n",
       "<table border=\"1\" class=\"dataframe\">\n",
       "  <thead>\n",
       "    <tr style=\"text-align: right;\">\n",
       "      <th></th>\n",
       "      <th>ride_id</th>\n",
       "      <th>seat_number</th>\n",
       "      <th>payment_method</th>\n",
       "      <th>payment_receipt</th>\n",
       "      <th>travel_date</th>\n",
       "      <th>travel_time</th>\n",
       "      <th>travel_from</th>\n",
       "      <th>travel_to</th>\n",
       "      <th>car_type</th>\n",
       "      <th>max_capacity</th>\n",
       "    </tr>\n",
       "  </thead>\n",
       "  <tbody>\n",
       "    <tr>\n",
       "      <th>0</th>\n",
       "      <td>1442</td>\n",
       "      <td>15A</td>\n",
       "      <td>Mpesa</td>\n",
       "      <td>UZUEHCBUSO</td>\n",
       "      <td>17-10-17</td>\n",
       "      <td>7:15</td>\n",
       "      <td>Migori</td>\n",
       "      <td>Nairobi</td>\n",
       "      <td>Bus</td>\n",
       "      <td>49</td>\n",
       "    </tr>\n",
       "    <tr>\n",
       "      <th>1</th>\n",
       "      <td>5437</td>\n",
       "      <td>14A</td>\n",
       "      <td>Mpesa</td>\n",
       "      <td>TIHLBUSGTE</td>\n",
       "      <td>19-11-17</td>\n",
       "      <td>7:12</td>\n",
       "      <td>Migori</td>\n",
       "      <td>Nairobi</td>\n",
       "      <td>Bus</td>\n",
       "      <td>49</td>\n",
       "    </tr>\n",
       "    <tr>\n",
       "      <th>2</th>\n",
       "      <td>5710</td>\n",
       "      <td>8B</td>\n",
       "      <td>Mpesa</td>\n",
       "      <td>EQX8Q5G19O</td>\n",
       "      <td>26-11-17</td>\n",
       "      <td>7:05</td>\n",
       "      <td>Keroka</td>\n",
       "      <td>Nairobi</td>\n",
       "      <td>Bus</td>\n",
       "      <td>49</td>\n",
       "    </tr>\n",
       "    <tr>\n",
       "      <th>3</th>\n",
       "      <td>5777</td>\n",
       "      <td>19A</td>\n",
       "      <td>Mpesa</td>\n",
       "      <td>SGP18CL0ME</td>\n",
       "      <td>27-11-17</td>\n",
       "      <td>7:10</td>\n",
       "      <td>Homa Bay</td>\n",
       "      <td>Nairobi</td>\n",
       "      <td>Bus</td>\n",
       "      <td>49</td>\n",
       "    </tr>\n",
       "    <tr>\n",
       "      <th>4</th>\n",
       "      <td>5778</td>\n",
       "      <td>11A</td>\n",
       "      <td>Mpesa</td>\n",
       "      <td>BM97HFRGL9</td>\n",
       "      <td>27-11-17</td>\n",
       "      <td>7:12</td>\n",
       "      <td>Migori</td>\n",
       "      <td>Nairobi</td>\n",
       "      <td>Bus</td>\n",
       "      <td>49</td>\n",
       "    </tr>\n",
       "  </tbody>\n",
       "</table>\n",
       "</div>"
      ],
      "text/plain": [
       "   ride_id seat_number payment_method payment_receipt travel_date travel_time  \\\n",
       "0     1442         15A          Mpesa      UZUEHCBUSO    17-10-17        7:15   \n",
       "1     5437         14A          Mpesa      TIHLBUSGTE    19-11-17        7:12   \n",
       "2     5710          8B          Mpesa      EQX8Q5G19O    26-11-17        7:05   \n",
       "3     5777         19A          Mpesa      SGP18CL0ME    27-11-17        7:10   \n",
       "4     5778         11A          Mpesa      BM97HFRGL9    27-11-17        7:12   \n",
       "\n",
       "  travel_from travel_to car_type  max_capacity  \n",
       "0      Migori   Nairobi      Bus            49  \n",
       "1      Migori   Nairobi      Bus            49  \n",
       "2      Keroka   Nairobi      Bus            49  \n",
       "3    Homa Bay   Nairobi      Bus            49  \n",
       "4      Migori   Nairobi      Bus            49  "
      ]
     },
     "execution_count": 3,
     "metadata": {},
     "output_type": "execute_result"
    }
   ],
   "source": [
    "# Dataset First Look\n",
    "df.head()"
   ]
  },
  {
   "cell_type": "code",
   "execution_count": 4,
   "id": "f9b32124",
   "metadata": {},
   "outputs": [
    {
     "name": "stdout",
     "output_type": "stream",
     "text": [
      "There are 51645 rows and 10 columns\n"
     ]
    }
   ],
   "source": [
    "# Dataset Rows & Columns count\n",
    "df.shape\n",
    "\n",
    "print(f'There are {df.shape[0]} rows and {df.shape[1]} columns')\n"
   ]
  },
  {
   "cell_type": "markdown",
   "id": "c78ccd41",
   "metadata": {},
   "source": [
    "# DATASET INFORMATION"
   ]
  },
  {
   "cell_type": "code",
   "execution_count": 5,
   "id": "35987ad4",
   "metadata": {},
   "outputs": [
    {
     "name": "stdout",
     "output_type": "stream",
     "text": [
      "<class 'pandas.core.frame.DataFrame'>\n",
      "RangeIndex: 51645 entries, 0 to 51644\n",
      "Data columns (total 10 columns):\n",
      " #   Column           Non-Null Count  Dtype \n",
      "---  ------           --------------  ----- \n",
      " 0   ride_id          51645 non-null  int64 \n",
      " 1   seat_number      51645 non-null  object\n",
      " 2   payment_method   51645 non-null  object\n",
      " 3   payment_receipt  51645 non-null  object\n",
      " 4   travel_date      51645 non-null  object\n",
      " 5   travel_time      51645 non-null  object\n",
      " 6   travel_from      51645 non-null  object\n",
      " 7   travel_to        51645 non-null  object\n",
      " 8   car_type         51645 non-null  object\n",
      " 9   max_capacity     51645 non-null  int64 \n",
      "dtypes: int64(2), object(8)\n",
      "memory usage: 3.9+ MB\n"
     ]
    }
   ],
   "source": [
    "# Dataset Info\n",
    "df.info()"
   ]
  },
  {
   "cell_type": "markdown",
   "id": "ddc68f30",
   "metadata": {},
   "source": [
    "# Duplicate Value"
   ]
  },
  {
   "cell_type": "code",
   "execution_count": 6,
   "id": "77cf48a8",
   "metadata": {},
   "outputs": [
    {
     "data": {
      "text/plain": [
       "False    51645\n",
       "dtype: int64"
      ]
     },
     "execution_count": 6,
     "metadata": {},
     "output_type": "execute_result"
    }
   ],
   "source": [
    "# Dataset Duplicate Value Count\n",
    "df.duplicated().value_counts()"
   ]
  },
  {
   "cell_type": "markdown",
   "id": "96e9faa0",
   "metadata": {},
   "source": [
    "# Missing Values/Null Values"
   ]
  },
  {
   "cell_type": "code",
   "execution_count": 7,
   "id": "7aaa3ff7",
   "metadata": {},
   "outputs": [
    {
     "data": {
      "text/plain": [
       "ride_id            0\n",
       "seat_number        0\n",
       "payment_method     0\n",
       "payment_receipt    0\n",
       "travel_date        0\n",
       "travel_time        0\n",
       "travel_from        0\n",
       "travel_to          0\n",
       "car_type           0\n",
       "max_capacity       0\n",
       "dtype: int64"
      ]
     },
     "execution_count": 7,
     "metadata": {},
     "output_type": "execute_result"
    }
   ],
   "source": [
    "# Missing Values/Null Values Count\n",
    "df.isnull().sum()"
   ]
  },
  {
   "cell_type": "markdown",
   "id": "87ce183d",
   "metadata": {},
   "source": [
    "What did you know about your dataset?\n",
    "\n",
    "In the above data:\n",
    "\n",
    "There are no duplicate rows\n",
    "\n",
    "There are no null values"
   ]
  },
  {
   "cell_type": "markdown",
   "id": "371f7743",
   "metadata": {},
   "source": [
    "# Understanding Your Variables"
   ]
  },
  {
   "cell_type": "code",
   "execution_count": 8,
   "id": "fd8c604a",
   "metadata": {},
   "outputs": [
    {
     "data": {
      "text/plain": [
       "Index(['ride_id', 'seat_number', 'payment_method', 'payment_receipt',\n",
       "       'travel_date', 'travel_time', 'travel_from', 'travel_to', 'car_type',\n",
       "       'max_capacity'],\n",
       "      dtype='object')"
      ]
     },
     "execution_count": 8,
     "metadata": {},
     "output_type": "execute_result"
    }
   ],
   "source": [
    "\n",
    "# Dataset Columns\n",
    "df.columns"
   ]
  },
  {
   "cell_type": "code",
   "execution_count": 9,
   "id": "83574c4d",
   "metadata": {},
   "outputs": [
    {
     "data": {
      "text/html": [
       "<div>\n",
       "<style scoped>\n",
       "    .dataframe tbody tr th:only-of-type {\n",
       "        vertical-align: middle;\n",
       "    }\n",
       "\n",
       "    .dataframe tbody tr th {\n",
       "        vertical-align: top;\n",
       "    }\n",
       "\n",
       "    .dataframe thead th {\n",
       "        text-align: right;\n",
       "    }\n",
       "</style>\n",
       "<table border=\"1\" class=\"dataframe\">\n",
       "  <thead>\n",
       "    <tr style=\"text-align: right;\">\n",
       "      <th></th>\n",
       "      <th>seat_number</th>\n",
       "      <th>payment_method</th>\n",
       "      <th>payment_receipt</th>\n",
       "      <th>travel_date</th>\n",
       "      <th>travel_time</th>\n",
       "      <th>travel_from</th>\n",
       "      <th>travel_to</th>\n",
       "      <th>car_type</th>\n",
       "    </tr>\n",
       "  </thead>\n",
       "  <tbody>\n",
       "    <tr>\n",
       "      <th>count</th>\n",
       "      <td>51645</td>\n",
       "      <td>51645</td>\n",
       "      <td>51645</td>\n",
       "      <td>51645</td>\n",
       "      <td>51645</td>\n",
       "      <td>51645</td>\n",
       "      <td>51645</td>\n",
       "      <td>51645</td>\n",
       "    </tr>\n",
       "    <tr>\n",
       "      <th>unique</th>\n",
       "      <td>61</td>\n",
       "      <td>2</td>\n",
       "      <td>51645</td>\n",
       "      <td>149</td>\n",
       "      <td>78</td>\n",
       "      <td>17</td>\n",
       "      <td>1</td>\n",
       "      <td>2</td>\n",
       "    </tr>\n",
       "    <tr>\n",
       "      <th>top</th>\n",
       "      <td>1</td>\n",
       "      <td>Mpesa</td>\n",
       "      <td>UZUEHCBUSO</td>\n",
       "      <td>10-12-17</td>\n",
       "      <td>7:09</td>\n",
       "      <td>Kisii</td>\n",
       "      <td>Nairobi</td>\n",
       "      <td>Bus</td>\n",
       "    </tr>\n",
       "    <tr>\n",
       "      <th>freq</th>\n",
       "      <td>2065</td>\n",
       "      <td>51532</td>\n",
       "      <td>1</td>\n",
       "      <td>856</td>\n",
       "      <td>3926</td>\n",
       "      <td>22607</td>\n",
       "      <td>51645</td>\n",
       "      <td>31985</td>\n",
       "    </tr>\n",
       "  </tbody>\n",
       "</table>\n",
       "</div>"
      ],
      "text/plain": [
       "       seat_number payment_method payment_receipt travel_date travel_time  \\\n",
       "count        51645          51645           51645       51645       51645   \n",
       "unique          61              2           51645         149          78   \n",
       "top              1          Mpesa      UZUEHCBUSO    10-12-17        7:09   \n",
       "freq          2065          51532               1         856        3926   \n",
       "\n",
       "       travel_from travel_to car_type  \n",
       "count        51645     51645    51645  \n",
       "unique          17         1        2  \n",
       "top          Kisii   Nairobi      Bus  \n",
       "freq         22607     51645    31985  "
      ]
     },
     "execution_count": 9,
     "metadata": {},
     "output_type": "execute_result"
    }
   ],
   "source": [
    "# Dataset Describe\n",
    "df.describe(include='object')"
   ]
  },
  {
   "cell_type": "markdown",
   "id": "90f23244",
   "metadata": {},
   "source": [
    "# Variables Description\n",
    "\n",
    "\n",
    "ride_id: unique ID of a vehicle on a specific route on a specific day and time.\n",
    "    \n",
    "seat_number: seat assigned to ticket\n",
    "    \n",
    "payment_method: method used by customer to purchase ticket from Mobiticket (cash or Mpesa)\n",
    "    \n",
    "payment_receipt: unique id number for ticket purchased from Mobiticket\n",
    "    \n",
    "travel_date: date of ride departure. (MM/DD/YYYY)\n",
    "    \n",
    "travel_time: scheduled departure time of ride. Rides generally depart on time. (hh:mm)\n",
    "    \n",
    "travel_from: town from which ride originated\n",
    "    \n",
    "travel_to: destination of ride. All rides are to Nairobi.\n",
    "    \n",
    "car_type: vehicle type (shuttle or bus)\n",
    "    \n",
    "max_capacity: number of seats on the vehicle"
   ]
  },
  {
   "cell_type": "markdown",
   "id": "a07610b7",
   "metadata": {},
   "source": [
    "# Check Unique Values for each variable"
   ]
  },
  {
   "cell_type": "code",
   "execution_count": 10,
   "id": "cdad227a",
   "metadata": {},
   "outputs": [
    {
     "data": {
      "text/plain": [
       "seat_number           61\n",
       "payment_method         2\n",
       "payment_receipt    51645\n",
       "travel_date          149\n",
       "travel_time           78\n",
       "travel_from           17\n",
       "travel_to              1\n",
       "car_type               2\n",
       "Name: unique, dtype: object"
      ]
     },
     "execution_count": 10,
     "metadata": {},
     "output_type": "execute_result"
    }
   ],
   "source": [
    "# Check Unique Values for each variable.\n",
    "df.describe(include='object').iloc[1,:]\n",
    "     "
   ]
  },
  {
   "cell_type": "markdown",
   "id": "df90d51b",
   "metadata": {},
   "source": [
    "# Data Wrangling"
   ]
  },
  {
   "cell_type": "code",
   "execution_count": 11,
   "id": "f9ba4bc2",
   "metadata": {},
   "outputs": [
    {
     "data": {
      "text/html": [
       "<div>\n",
       "<style scoped>\n",
       "    .dataframe tbody tr th:only-of-type {\n",
       "        vertical-align: middle;\n",
       "    }\n",
       "\n",
       "    .dataframe tbody tr th {\n",
       "        vertical-align: top;\n",
       "    }\n",
       "\n",
       "    .dataframe thead th {\n",
       "        text-align: right;\n",
       "    }\n",
       "</style>\n",
       "<table border=\"1\" class=\"dataframe\">\n",
       "  <thead>\n",
       "    <tr style=\"text-align: right;\">\n",
       "      <th></th>\n",
       "      <th>ride_id</th>\n",
       "      <th>seat_number</th>\n",
       "      <th>payment_method</th>\n",
       "      <th>payment_receipt</th>\n",
       "      <th>travel_date</th>\n",
       "      <th>travel_time</th>\n",
       "      <th>travel_from</th>\n",
       "      <th>travel_to</th>\n",
       "      <th>car_type</th>\n",
       "      <th>max_capacity</th>\n",
       "    </tr>\n",
       "  </thead>\n",
       "  <tbody>\n",
       "    <tr>\n",
       "      <th>0</th>\n",
       "      <td>1442</td>\n",
       "      <td>15A</td>\n",
       "      <td>Mpesa</td>\n",
       "      <td>UZUEHCBUSO</td>\n",
       "      <td>17-10-17</td>\n",
       "      <td>7:15</td>\n",
       "      <td>Migori</td>\n",
       "      <td>Nairobi</td>\n",
       "      <td>Bus</td>\n",
       "      <td>49</td>\n",
       "    </tr>\n",
       "    <tr>\n",
       "      <th>1</th>\n",
       "      <td>5437</td>\n",
       "      <td>14A</td>\n",
       "      <td>Mpesa</td>\n",
       "      <td>TIHLBUSGTE</td>\n",
       "      <td>19-11-17</td>\n",
       "      <td>7:12</td>\n",
       "      <td>Migori</td>\n",
       "      <td>Nairobi</td>\n",
       "      <td>Bus</td>\n",
       "      <td>49</td>\n",
       "    </tr>\n",
       "    <tr>\n",
       "      <th>2</th>\n",
       "      <td>5710</td>\n",
       "      <td>8B</td>\n",
       "      <td>Mpesa</td>\n",
       "      <td>EQX8Q5G19O</td>\n",
       "      <td>26-11-17</td>\n",
       "      <td>7:05</td>\n",
       "      <td>Keroka</td>\n",
       "      <td>Nairobi</td>\n",
       "      <td>Bus</td>\n",
       "      <td>49</td>\n",
       "    </tr>\n",
       "  </tbody>\n",
       "</table>\n",
       "</div>"
      ],
      "text/plain": [
       "   ride_id seat_number payment_method payment_receipt travel_date travel_time  \\\n",
       "0     1442         15A          Mpesa      UZUEHCBUSO    17-10-17        7:15   \n",
       "1     5437         14A          Mpesa      TIHLBUSGTE    19-11-17        7:12   \n",
       "2     5710          8B          Mpesa      EQX8Q5G19O    26-11-17        7:05   \n",
       "\n",
       "  travel_from travel_to car_type  max_capacity  \n",
       "0      Migori   Nairobi      Bus            49  \n",
       "1      Migori   Nairobi      Bus            49  \n",
       "2      Keroka   Nairobi      Bus            49  "
      ]
     },
     "execution_count": 11,
     "metadata": {},
     "output_type": "execute_result"
    }
   ],
   "source": [
    "# Write your code to make your dataset analysis ready.\n",
    "df.head(3)\n",
    "     "
   ]
  },
  {
   "cell_type": "markdown",
   "id": "53b07d8d",
   "metadata": {},
   "source": [
    "# There is no specified target variable in the data.\n",
    "\n",
    "According to business problem, it requires us to predict the number of tickets we can sell on a particular route and particular date and time. Hence, a new column is created for number of tickets by grouping the data on ride_id"
   ]
  },
  {
   "cell_type": "markdown",
   "id": "6bd3e678",
   "metadata": {},
   "source": [
    "# "
   ]
  },
  {
   "cell_type": "code",
   "execution_count": 12,
   "id": "e7c442cf",
   "metadata": {},
   "outputs": [
    {
     "data": {
      "text/plain": [
       "6249"
      ]
     },
     "execution_count": 12,
     "metadata": {},
     "output_type": "execute_result"
    }
   ],
   "source": [
    "#Checking number of unique ride ids\n",
    "len(df['ride_id'].unique())\n",
    "     "
   ]
  },
  {
   "cell_type": "code",
   "execution_count": 13,
   "id": "7e1c06c2",
   "metadata": {},
   "outputs": [
    {
     "data": {
      "text/html": [
       "<div>\n",
       "<style scoped>\n",
       "    .dataframe tbody tr th:only-of-type {\n",
       "        vertical-align: middle;\n",
       "    }\n",
       "\n",
       "    .dataframe tbody tr th {\n",
       "        vertical-align: top;\n",
       "    }\n",
       "\n",
       "    .dataframe thead th {\n",
       "        text-align: right;\n",
       "    }\n",
       "</style>\n",
       "<table border=\"1\" class=\"dataframe\">\n",
       "  <thead>\n",
       "    <tr style=\"text-align: right;\">\n",
       "      <th></th>\n",
       "      <th>ride_id</th>\n",
       "      <th>number_of_ticket</th>\n",
       "    </tr>\n",
       "  </thead>\n",
       "  <tbody>\n",
       "    <tr>\n",
       "      <th>0</th>\n",
       "      <td>1442</td>\n",
       "      <td>1</td>\n",
       "    </tr>\n",
       "    <tr>\n",
       "      <th>1</th>\n",
       "      <td>5437</td>\n",
       "      <td>1</td>\n",
       "    </tr>\n",
       "    <tr>\n",
       "      <th>2</th>\n",
       "      <td>5710</td>\n",
       "      <td>1</td>\n",
       "    </tr>\n",
       "    <tr>\n",
       "      <th>3</th>\n",
       "      <td>5777</td>\n",
       "      <td>5</td>\n",
       "    </tr>\n",
       "    <tr>\n",
       "      <th>4</th>\n",
       "      <td>5778</td>\n",
       "      <td>31</td>\n",
       "    </tr>\n",
       "  </tbody>\n",
       "</table>\n",
       "</div>"
      ],
      "text/plain": [
       "   ride_id  number_of_ticket\n",
       "0     1442                 1\n",
       "1     5437                 1\n",
       "2     5710                 1\n",
       "3     5777                 5\n",
       "4     5778                31"
      ]
     },
     "execution_count": 13,
     "metadata": {},
     "output_type": "execute_result"
    }
   ],
   "source": [
    "#Making target variable 'number of ticket' by grouping the dataframe on ride_id column\n",
    "temp_df = df.groupby('ride_id')['seat_number'].count().reset_index()\n",
    "temp_df.rename(columns = {'seat_number':'number_of_ticket'},inplace=True)\n",
    "temp_df.head()\n",
    "     "
   ]
  },
  {
   "cell_type": "code",
   "execution_count": 14,
   "id": "0be8b19f",
   "metadata": {},
   "outputs": [
    {
     "data": {
      "text/plain": [
       "(51645, 6)"
      ]
     },
     "execution_count": 14,
     "metadata": {},
     "output_type": "execute_result"
    }
   ],
   "source": [
    "#Dropping constant column travel_to and other unuseful columns\n",
    "df.drop(['seat_number','payment_method','payment_receipt','travel_to'],axis=1, inplace=True)\n",
    "df.shape"
   ]
  },
  {
   "cell_type": "code",
   "execution_count": 15,
   "id": "60498ed5",
   "metadata": {},
   "outputs": [
    {
     "data": {
      "text/plain": [
       "(6249, 6)"
      ]
     },
     "execution_count": 15,
     "metadata": {},
     "output_type": "execute_result"
    }
   ],
   "source": [
    "#Dropping duplicates\n",
    "df.drop_duplicates('ride_id',inplace=True)\n",
    "df.shape"
   ]
  },
  {
   "cell_type": "code",
   "execution_count": 16,
   "id": "b5654ae9",
   "metadata": {},
   "outputs": [
    {
     "data": {
      "text/html": [
       "<div>\n",
       "<style scoped>\n",
       "    .dataframe tbody tr th:only-of-type {\n",
       "        vertical-align: middle;\n",
       "    }\n",
       "\n",
       "    .dataframe tbody tr th {\n",
       "        vertical-align: top;\n",
       "    }\n",
       "\n",
       "    .dataframe thead th {\n",
       "        text-align: right;\n",
       "    }\n",
       "</style>\n",
       "<table border=\"1\" class=\"dataframe\">\n",
       "  <thead>\n",
       "    <tr style=\"text-align: right;\">\n",
       "      <th></th>\n",
       "      <th>ride_id</th>\n",
       "      <th>travel_date</th>\n",
       "      <th>travel_time</th>\n",
       "      <th>travel_from</th>\n",
       "      <th>car_type</th>\n",
       "      <th>max_capacity</th>\n",
       "      <th>number_of_ticket</th>\n",
       "    </tr>\n",
       "  </thead>\n",
       "  <tbody>\n",
       "    <tr>\n",
       "      <th>0</th>\n",
       "      <td>1442</td>\n",
       "      <td>17-10-17</td>\n",
       "      <td>7:15</td>\n",
       "      <td>Migori</td>\n",
       "      <td>Bus</td>\n",
       "      <td>49</td>\n",
       "      <td>1</td>\n",
       "    </tr>\n",
       "    <tr>\n",
       "      <th>1</th>\n",
       "      <td>5437</td>\n",
       "      <td>19-11-17</td>\n",
       "      <td>7:12</td>\n",
       "      <td>Migori</td>\n",
       "      <td>Bus</td>\n",
       "      <td>49</td>\n",
       "      <td>1</td>\n",
       "    </tr>\n",
       "    <tr>\n",
       "      <th>2</th>\n",
       "      <td>5710</td>\n",
       "      <td>26-11-17</td>\n",
       "      <td>7:05</td>\n",
       "      <td>Keroka</td>\n",
       "      <td>Bus</td>\n",
       "      <td>49</td>\n",
       "      <td>1</td>\n",
       "    </tr>\n",
       "    <tr>\n",
       "      <th>3</th>\n",
       "      <td>5777</td>\n",
       "      <td>27-11-17</td>\n",
       "      <td>7:10</td>\n",
       "      <td>Homa Bay</td>\n",
       "      <td>Bus</td>\n",
       "      <td>49</td>\n",
       "      <td>5</td>\n",
       "    </tr>\n",
       "    <tr>\n",
       "      <th>4</th>\n",
       "      <td>5778</td>\n",
       "      <td>27-11-17</td>\n",
       "      <td>7:12</td>\n",
       "      <td>Migori</td>\n",
       "      <td>Bus</td>\n",
       "      <td>49</td>\n",
       "      <td>31</td>\n",
       "    </tr>\n",
       "  </tbody>\n",
       "</table>\n",
       "</div>"
      ],
      "text/plain": [
       "   ride_id travel_date travel_time travel_from car_type  max_capacity  \\\n",
       "0     1442    17-10-17        7:15      Migori      Bus            49   \n",
       "1     5437    19-11-17        7:12      Migori      Bus            49   \n",
       "2     5710    26-11-17        7:05      Keroka      Bus            49   \n",
       "3     5777    27-11-17        7:10    Homa Bay      Bus            49   \n",
       "4     5778    27-11-17        7:12      Migori      Bus            49   \n",
       "\n",
       "   number_of_ticket  \n",
       "0                 1  \n",
       "1                 1  \n",
       "2                 1  \n",
       "3                 5  \n",
       "4                31  "
      ]
     },
     "execution_count": 16,
     "metadata": {},
     "output_type": "execute_result"
    }
   ],
   "source": [
    "# Merging this new dataframe with orginal dataframe on column ride_id\n",
    "df = df.merge(temp_df, how='left', on='ride_id')\n",
    "df.head()"
   ]
  },
  {
   "cell_type": "code",
   "execution_count": 17,
   "id": "faf78196",
   "metadata": {},
   "outputs": [],
   "source": [
    "#Creating a column date_time which is a combination of columns travel_date and travel_time\n",
    "df['date_time'] = pd.to_datetime(df['travel_date'] +\" \"+ df['travel_time'])\n",
    "df['travel_date'] = pd.to_datetime(df['travel_date'])"
   ]
  },
  {
   "cell_type": "code",
   "execution_count": 18,
   "id": "1c63506e",
   "metadata": {},
   "outputs": [],
   "source": [
    "df_copy = df.copy()"
   ]
  },
  {
   "cell_type": "code",
   "execution_count": 19,
   "id": "5e42995a",
   "metadata": {},
   "outputs": [],
   "source": [
    "\n",
    "#Creating additonal features with travel_date and travel_time columns\n",
    "\n",
    "#Creating a function to add the above features\n",
    "def create_date_cols(df_temp):\n",
    "  df_temp['travel_month'] = df_temp['travel_date'].dt.month\n",
    "  df_temp['travel_year'] = df_temp['travel_date'].dt.year\n",
    "  df_temp['travel_day_of_month'] = df_temp['travel_date'].dt.day\n",
    "  df_temp['travel_day_of_year'] = df_temp['travel_date'].dt.dayofyear\n",
    "  df_temp['travel_day_of_week'] = df_temp['travel_date'].dt.dayofweek\n",
    "  df_temp['travel_hour'] = pd.to_datetime(df_temp['travel_time']).dt.hour\n",
    "  df_temp['quarter'] = df_temp['travel_date'].dt.quarter\n",
    "  df_temp['is_weekend'] = df_temp['travel_day_of_week'].apply(lambda x: 1 if x in [5,6] else 0)\n",
    "\n",
    "  return df_temp\n",
    "\n",
    "#Applying function on our dataframe\n",
    "df_copy = create_date_cols(df_copy)"
   ]
  },
  {
   "cell_type": "code",
   "execution_count": 20,
   "id": "6c304b53",
   "metadata": {},
   "outputs": [
    {
     "data": {
      "text/plain": [
       "Index(['ride_id', 'travel_date', 'travel_time', 'travel_from', 'car_type',\n",
       "       'max_capacity', 'number_of_ticket', 'date_time', 'travel_month',\n",
       "       'travel_year', 'travel_day_of_month', 'travel_day_of_year',\n",
       "       'travel_day_of_week', 'travel_hour', 'quarter', 'is_weekend'],\n",
       "      dtype='object')"
      ]
     },
     "execution_count": 20,
     "metadata": {},
     "output_type": "execute_result"
    }
   ],
   "source": [
    "df_copy.columns\n",
    "     "
   ]
  },
  {
   "cell_type": "code",
   "execution_count": 21,
   "id": "2d425bc2",
   "metadata": {},
   "outputs": [
    {
     "data": {
      "text/html": [
       "<div>\n",
       "<style scoped>\n",
       "    .dataframe tbody tr th:only-of-type {\n",
       "        vertical-align: middle;\n",
       "    }\n",
       "\n",
       "    .dataframe tbody tr th {\n",
       "        vertical-align: top;\n",
       "    }\n",
       "\n",
       "    .dataframe thead th {\n",
       "        text-align: right;\n",
       "    }\n",
       "</style>\n",
       "<table border=\"1\" class=\"dataframe\">\n",
       "  <thead>\n",
       "    <tr style=\"text-align: right;\">\n",
       "      <th></th>\n",
       "      <th>ride_id</th>\n",
       "      <th>travel_date</th>\n",
       "      <th>travel_time</th>\n",
       "      <th>travel_from</th>\n",
       "      <th>car_type</th>\n",
       "      <th>max_capacity</th>\n",
       "      <th>number_of_ticket</th>\n",
       "      <th>date_time</th>\n",
       "      <th>travel_month</th>\n",
       "      <th>travel_year</th>\n",
       "      <th>travel_day_of_month</th>\n",
       "      <th>travel_day_of_year</th>\n",
       "      <th>travel_day_of_week</th>\n",
       "      <th>travel_hour</th>\n",
       "      <th>quarter</th>\n",
       "      <th>is_weekend</th>\n",
       "    </tr>\n",
       "  </thead>\n",
       "  <tbody>\n",
       "    <tr>\n",
       "      <th>0</th>\n",
       "      <td>1442</td>\n",
       "      <td>2017-10-17</td>\n",
       "      <td>7:15</td>\n",
       "      <td>Migori</td>\n",
       "      <td>Bus</td>\n",
       "      <td>49</td>\n",
       "      <td>1</td>\n",
       "      <td>2017-10-17 07:15:00</td>\n",
       "      <td>10</td>\n",
       "      <td>2017</td>\n",
       "      <td>17</td>\n",
       "      <td>290</td>\n",
       "      <td>1</td>\n",
       "      <td>7</td>\n",
       "      <td>4</td>\n",
       "      <td>0</td>\n",
       "    </tr>\n",
       "    <tr>\n",
       "      <th>1</th>\n",
       "      <td>5437</td>\n",
       "      <td>2017-11-19</td>\n",
       "      <td>7:12</td>\n",
       "      <td>Migori</td>\n",
       "      <td>Bus</td>\n",
       "      <td>49</td>\n",
       "      <td>1</td>\n",
       "      <td>2017-11-19 07:12:00</td>\n",
       "      <td>11</td>\n",
       "      <td>2017</td>\n",
       "      <td>19</td>\n",
       "      <td>323</td>\n",
       "      <td>6</td>\n",
       "      <td>7</td>\n",
       "      <td>4</td>\n",
       "      <td>1</td>\n",
       "    </tr>\n",
       "    <tr>\n",
       "      <th>2</th>\n",
       "      <td>5710</td>\n",
       "      <td>2017-11-26</td>\n",
       "      <td>7:05</td>\n",
       "      <td>Keroka</td>\n",
       "      <td>Bus</td>\n",
       "      <td>49</td>\n",
       "      <td>1</td>\n",
       "      <td>2017-11-26 07:05:00</td>\n",
       "      <td>11</td>\n",
       "      <td>2017</td>\n",
       "      <td>26</td>\n",
       "      <td>330</td>\n",
       "      <td>6</td>\n",
       "      <td>7</td>\n",
       "      <td>4</td>\n",
       "      <td>1</td>\n",
       "    </tr>\n",
       "    <tr>\n",
       "      <th>3</th>\n",
       "      <td>5777</td>\n",
       "      <td>2017-11-27</td>\n",
       "      <td>7:10</td>\n",
       "      <td>Homa Bay</td>\n",
       "      <td>Bus</td>\n",
       "      <td>49</td>\n",
       "      <td>5</td>\n",
       "      <td>2017-11-27 07:10:00</td>\n",
       "      <td>11</td>\n",
       "      <td>2017</td>\n",
       "      <td>27</td>\n",
       "      <td>331</td>\n",
       "      <td>0</td>\n",
       "      <td>7</td>\n",
       "      <td>4</td>\n",
       "      <td>0</td>\n",
       "    </tr>\n",
       "    <tr>\n",
       "      <th>4</th>\n",
       "      <td>5778</td>\n",
       "      <td>2017-11-27</td>\n",
       "      <td>7:12</td>\n",
       "      <td>Migori</td>\n",
       "      <td>Bus</td>\n",
       "      <td>49</td>\n",
       "      <td>31</td>\n",
       "      <td>2017-11-27 07:12:00</td>\n",
       "      <td>11</td>\n",
       "      <td>2017</td>\n",
       "      <td>27</td>\n",
       "      <td>331</td>\n",
       "      <td>0</td>\n",
       "      <td>7</td>\n",
       "      <td>4</td>\n",
       "      <td>0</td>\n",
       "    </tr>\n",
       "  </tbody>\n",
       "</table>\n",
       "</div>"
      ],
      "text/plain": [
       "   ride_id travel_date travel_time travel_from car_type  max_capacity  \\\n",
       "0     1442  2017-10-17        7:15      Migori      Bus            49   \n",
       "1     5437  2017-11-19        7:12      Migori      Bus            49   \n",
       "2     5710  2017-11-26        7:05      Keroka      Bus            49   \n",
       "3     5777  2017-11-27        7:10    Homa Bay      Bus            49   \n",
       "4     5778  2017-11-27        7:12      Migori      Bus            49   \n",
       "\n",
       "   number_of_ticket           date_time  travel_month  travel_year  \\\n",
       "0                 1 2017-10-17 07:15:00            10         2017   \n",
       "1                 1 2017-11-19 07:12:00            11         2017   \n",
       "2                 1 2017-11-26 07:05:00            11         2017   \n",
       "3                 5 2017-11-27 07:10:00            11         2017   \n",
       "4                31 2017-11-27 07:12:00            11         2017   \n",
       "\n",
       "   travel_day_of_month  travel_day_of_year  travel_day_of_week  travel_hour  \\\n",
       "0                   17                 290                   1            7   \n",
       "1                   19                 323                   6            7   \n",
       "2                   26                 330                   6            7   \n",
       "3                   27                 331                   0            7   \n",
       "4                   27                 331                   0            7   \n",
       "\n",
       "   quarter  is_weekend  \n",
       "0        4           0  \n",
       "1        4           1  \n",
       "2        4           1  \n",
       "3        4           0  \n",
       "4        4           0  "
      ]
     },
     "execution_count": 21,
     "metadata": {},
     "output_type": "execute_result"
    }
   ],
   "source": [
    "df_copy.head()"
   ]
  },
  {
   "cell_type": "code",
   "execution_count": 22,
   "id": "be8b2323",
   "metadata": {},
   "outputs": [],
   "source": [
    "#Converting travel_time column into integer format\n",
    "df_copy['travel_time'] = df_copy['travel_time'].str.split(':').apply(lambda x: round(int(x[0]) + int(x[1])/60 ,2) )\n",
    "     "
   ]
  },
  {
   "cell_type": "code",
   "execution_count": 23,
   "id": "4c09480f",
   "metadata": {},
   "outputs": [],
   "source": [
    "#Creating function that defines periods for time intervals\n",
    "def get_period(hour):\n",
    "  if hour<7: return 'em'\n",
    "  elif hour>=7 and hour<=11: return 'mor'\n",
    "  elif hour>11 and hour<=15: return 'an'\n",
    "  elif hour>15 and hour<=19: return 'evn'\n",
    "  elif hour>19 and hour<=24: return 'nght'\n",
    "\n",
    "df_copy['time_period_of_day'] = df_copy['travel_hour'].apply(get_period)"
   ]
  },
  {
   "cell_type": "code",
   "execution_count": 24,
   "id": "ec8fcfcd",
   "metadata": {},
   "outputs": [
    {
     "data": {
      "text/html": [
       "<div>\n",
       "<style scoped>\n",
       "    .dataframe tbody tr th:only-of-type {\n",
       "        vertical-align: middle;\n",
       "    }\n",
       "\n",
       "    .dataframe tbody tr th {\n",
       "        vertical-align: top;\n",
       "    }\n",
       "\n",
       "    .dataframe thead th {\n",
       "        text-align: right;\n",
       "    }\n",
       "</style>\n",
       "<table border=\"1\" class=\"dataframe\">\n",
       "  <thead>\n",
       "    <tr style=\"text-align: right;\">\n",
       "      <th></th>\n",
       "      <th>ride_id</th>\n",
       "      <th>travel_date</th>\n",
       "      <th>travel_time</th>\n",
       "      <th>travel_from</th>\n",
       "      <th>car_type</th>\n",
       "      <th>max_capacity</th>\n",
       "      <th>number_of_ticket</th>\n",
       "      <th>date_time</th>\n",
       "      <th>travel_month</th>\n",
       "      <th>travel_year</th>\n",
       "      <th>travel_day_of_month</th>\n",
       "      <th>travel_day_of_year</th>\n",
       "      <th>travel_day_of_week</th>\n",
       "      <th>travel_hour</th>\n",
       "      <th>quarter</th>\n",
       "      <th>is_weekend</th>\n",
       "      <th>time_period_of_day</th>\n",
       "    </tr>\n",
       "  </thead>\n",
       "  <tbody>\n",
       "    <tr>\n",
       "      <th>0</th>\n",
       "      <td>1442</td>\n",
       "      <td>2017-10-17</td>\n",
       "      <td>7.25</td>\n",
       "      <td>Migori</td>\n",
       "      <td>Bus</td>\n",
       "      <td>49</td>\n",
       "      <td>1</td>\n",
       "      <td>2017-10-17 07:15:00</td>\n",
       "      <td>10</td>\n",
       "      <td>2017</td>\n",
       "      <td>17</td>\n",
       "      <td>290</td>\n",
       "      <td>1</td>\n",
       "      <td>7</td>\n",
       "      <td>4</td>\n",
       "      <td>0</td>\n",
       "      <td>mor</td>\n",
       "    </tr>\n",
       "    <tr>\n",
       "      <th>1</th>\n",
       "      <td>5437</td>\n",
       "      <td>2017-11-19</td>\n",
       "      <td>7.20</td>\n",
       "      <td>Migori</td>\n",
       "      <td>Bus</td>\n",
       "      <td>49</td>\n",
       "      <td>1</td>\n",
       "      <td>2017-11-19 07:12:00</td>\n",
       "      <td>11</td>\n",
       "      <td>2017</td>\n",
       "      <td>19</td>\n",
       "      <td>323</td>\n",
       "      <td>6</td>\n",
       "      <td>7</td>\n",
       "      <td>4</td>\n",
       "      <td>1</td>\n",
       "      <td>mor</td>\n",
       "    </tr>\n",
       "    <tr>\n",
       "      <th>2</th>\n",
       "      <td>5710</td>\n",
       "      <td>2017-11-26</td>\n",
       "      <td>7.08</td>\n",
       "      <td>Keroka</td>\n",
       "      <td>Bus</td>\n",
       "      <td>49</td>\n",
       "      <td>1</td>\n",
       "      <td>2017-11-26 07:05:00</td>\n",
       "      <td>11</td>\n",
       "      <td>2017</td>\n",
       "      <td>26</td>\n",
       "      <td>330</td>\n",
       "      <td>6</td>\n",
       "      <td>7</td>\n",
       "      <td>4</td>\n",
       "      <td>1</td>\n",
       "      <td>mor</td>\n",
       "    </tr>\n",
       "    <tr>\n",
       "      <th>3</th>\n",
       "      <td>5777</td>\n",
       "      <td>2017-11-27</td>\n",
       "      <td>7.17</td>\n",
       "      <td>Homa Bay</td>\n",
       "      <td>Bus</td>\n",
       "      <td>49</td>\n",
       "      <td>5</td>\n",
       "      <td>2017-11-27 07:10:00</td>\n",
       "      <td>11</td>\n",
       "      <td>2017</td>\n",
       "      <td>27</td>\n",
       "      <td>331</td>\n",
       "      <td>0</td>\n",
       "      <td>7</td>\n",
       "      <td>4</td>\n",
       "      <td>0</td>\n",
       "      <td>mor</td>\n",
       "    </tr>\n",
       "    <tr>\n",
       "      <th>4</th>\n",
       "      <td>5778</td>\n",
       "      <td>2017-11-27</td>\n",
       "      <td>7.20</td>\n",
       "      <td>Migori</td>\n",
       "      <td>Bus</td>\n",
       "      <td>49</td>\n",
       "      <td>31</td>\n",
       "      <td>2017-11-27 07:12:00</td>\n",
       "      <td>11</td>\n",
       "      <td>2017</td>\n",
       "      <td>27</td>\n",
       "      <td>331</td>\n",
       "      <td>0</td>\n",
       "      <td>7</td>\n",
       "      <td>4</td>\n",
       "      <td>0</td>\n",
       "      <td>mor</td>\n",
       "    </tr>\n",
       "  </tbody>\n",
       "</table>\n",
       "</div>"
      ],
      "text/plain": [
       "   ride_id travel_date  travel_time travel_from car_type  max_capacity  \\\n",
       "0     1442  2017-10-17         7.25      Migori      Bus            49   \n",
       "1     5437  2017-11-19         7.20      Migori      Bus            49   \n",
       "2     5710  2017-11-26         7.08      Keroka      Bus            49   \n",
       "3     5777  2017-11-27         7.17    Homa Bay      Bus            49   \n",
       "4     5778  2017-11-27         7.20      Migori      Bus            49   \n",
       "\n",
       "   number_of_ticket           date_time  travel_month  travel_year  \\\n",
       "0                 1 2017-10-17 07:15:00            10         2017   \n",
       "1                 1 2017-11-19 07:12:00            11         2017   \n",
       "2                 1 2017-11-26 07:05:00            11         2017   \n",
       "3                 5 2017-11-27 07:10:00            11         2017   \n",
       "4                31 2017-11-27 07:12:00            11         2017   \n",
       "\n",
       "   travel_day_of_month  travel_day_of_year  travel_day_of_week  travel_hour  \\\n",
       "0                   17                 290                   1            7   \n",
       "1                   19                 323                   6            7   \n",
       "2                   26                 330                   6            7   \n",
       "3                   27                 331                   0            7   \n",
       "4                   27                 331                   0            7   \n",
       "\n",
       "   quarter  is_weekend time_period_of_day  \n",
       "0        4           0                mor  \n",
       "1        4           1                mor  \n",
       "2        4           1                mor  \n",
       "3        4           0                mor  \n",
       "4        4           0                mor  "
      ]
     },
     "execution_count": 24,
     "metadata": {},
     "output_type": "execute_result"
    }
   ],
   "source": [
    "df_copy.head()\n",
    "     "
   ]
  },
  {
   "cell_type": "markdown",
   "id": "762ef5fb",
   "metadata": {},
   "source": [
    "# What all manipulations have you done and insights you found?\n",
    "Created target variable 'number_of_ticket'\n",
    "\n",
    "Dropped constant and non essential columns\n",
    "\n",
    "Used travel_date and travel_time columns to extract and create datetime related features\n",
    "\n",
    "Created period feature from travel time for data visualization"
   ]
  },
  {
   "cell_type": "markdown",
   "id": "f6c48341",
   "metadata": {},
   "source": [
    "# Data Vizualization"
   ]
  },
  {
   "cell_type": "code",
   "execution_count": 25,
   "id": "2de3d988",
   "metadata": {},
   "outputs": [],
   "source": [
    "import warnings\n",
    "warnings.filterwarnings('ignore')"
   ]
  },
  {
   "cell_type": "code",
   "execution_count": 26,
   "id": "364cfe3c",
   "metadata": {},
   "outputs": [
    {
     "name": "stdout",
     "output_type": "stream",
     "text": [
      "Index(['ride_id', 'travel_date', 'travel_time', 'travel_from', 'car_type',\n",
      "       'max_capacity', 'number_of_ticket', 'date_time', 'travel_month',\n",
      "       'travel_year', 'travel_day_of_month', 'travel_day_of_year',\n",
      "       'travel_day_of_week', 'travel_hour', 'quarter', 'is_weekend',\n",
      "       'time_period_of_day'],\n",
      "      dtype='object')\n"
     ]
    }
   ],
   "source": [
    "print(df_copy.columns)\n"
   ]
  },
  {
   "cell_type": "code",
   "execution_count": 27,
   "id": "7df63533",
   "metadata": {},
   "outputs": [
    {
     "data": {
      "image/png": "[encoded data removed]",
      "text/plain": [
       "<Figure size 720x432 with 1 Axes>"
      ]
     },
     "metadata": {
      "needs_background": "light"
     },
     "output_type": "display_data"
    }
   ],
   "source": [
    "plt.figure(figsize=(10,6))\n",
    "sns.histplot(df_copy['number_of_ticket'], color='teal')\n",
    "plt.title(\"Distribution of Tickets (X)\")\n",
    "plt.xlabel(\"Number of Tickets (X)\")\n",
    "plt.ylabel(\"Frequency\")\n",
    "plt.show()\n",
    "\n",
    "\n"
   ]
  },
  {
   "cell_type": "code",
   "execution_count": 28,
   "id": "74ae3c68",
   "metadata": {
    "scrolled": true
   },
   "outputs": [
    {
     "data": {
      "image/png": "[encoded data removed]",
      "text/plain": [
       "<Figure size 720x432 with 1 Axes>"
      ]
     },
     "metadata": {
      "needs_background": "light"
     },
     "output_type": "display_data"
    }
   ],
   "source": [
    "plt.figure(figsize=(10,6))\n",
    "sns.histplot(df_copy['number_of_ticket'], color='teal')\n",
    "plt.title(\"Distribution of Tickets (Y)\")\n",
    "plt.xlabel(\"Number of Tickets (Y)\")\n",
    "plt.ylabel(\"Frequency\")\n",
    "plt.show()\n"
   ]
  },
  {
   "cell_type": "markdown",
   "id": "ce716cba",
   "metadata": {},
   "source": [
    "# What is/are the insight(s) found from the chart?\n",
    "From data, usually number of tickets bought per ride_id is between 1 and 12"
   ]
  },
  {
   "cell_type": "code",
   "execution_count": 29,
   "id": "e5d57a79",
   "metadata": {},
   "outputs": [
    {
     "data": {
      "text/plain": [
       "Text(0, 0.5, 'Count')"
      ]
     },
     "execution_count": 29,
     "metadata": {},
     "output_type": "execute_result"
    },
    {
     "data": {
      "image/png": "[encoded data removed]",
      "text/plain": [
       "<Figure size 720x432 with 1 Axes>"
      ]
     },
     "metadata": {
      "needs_background": "light"
     },
     "output_type": "display_data"
    }
   ],
   "source": [
    "# Chart - 2 visualization code\n",
    "#Bar chart for types of transport used\n",
    "plt.figure(figsize=(10,6))\n",
    "df_copy['car_type'].value_counts().plot(kind='bar',color='teal')\n",
    "plt.title(\"Types of transport used\")\n",
    "plt.xlabel('Car Type')\n",
    "plt.ylabel('Count')"
   ]
  },
  {
   "cell_type": "markdown",
   "id": "edc111a6",
   "metadata": {},
   "source": [
    "# What is/are the insight(s) found from the chart?\n",
    "The number of Buses and shuttle are nearly equal in the data. Hence, both type of cars are used equally for traveling."
   ]
  },
  {
   "cell_type": "code",
   "execution_count": 30,
   "id": "704eab98",
   "metadata": {},
   "outputs": [
    {
     "data": {
      "text/plain": [
       "Text(0, 0.5, 'Count')"
      ]
     },
     "execution_count": 30,
     "metadata": {},
     "output_type": "execute_result"
    },
    {
     "data": {
      "image/png": "[encoded data removed]",
      "text/plain": [
       "<Figure size 720x432 with 1 Axes>"
      ]
     },
     "metadata": {
      "needs_background": "light"
     },
     "output_type": "display_data"
    }
   ],
   "source": [
    "# Chart - 3 visualization code\n",
    "\n",
    "#Bar chart for Max Capacities of transport\n",
    "plt.figure(figsize=(10,6))\n",
    "sns.barplot(data=df_copy, x='car_type', y='max_capacity', color='teal')\n",
    "plt.title(\"Max Capacities of Transport\")\n",
    "plt.xlabel('Max Capacity')\n",
    "plt.ylabel('Count')"
   ]
  },
  {
   "cell_type": "markdown",
   "id": "e3804f38",
   "metadata": {},
   "source": [
    "# What is/are the insight(s) found from the chart?\n",
    "Buses have max capacity of bus is 49, whereas max capacity of shuttle is 11."
   ]
  },
  {
   "cell_type": "code",
   "execution_count": 31,
   "id": "cdb431fa",
   "metadata": {},
   "outputs": [
    {
     "data": {
      "text/plain": [
       "Text(0, 0.5, 'Number of Tickets')"
      ]
     },
     "execution_count": 31,
     "metadata": {},
     "output_type": "execute_result"
    },
    {
     "data": {
      "image/png": "[encoded data removed]",
      "text/plain": [
       "<Figure size 720x432 with 1 Axes>"
      ]
     },
     "metadata": {
      "needs_background": "light"
     },
     "output_type": "display_data"
    }
   ],
   "source": [
    "# Chart - 4 visualization code\n",
    "\n",
    "#Bar chart for total number of ticket from each origin place\n",
    "plt.figure(figsize=(10,6))\n",
    "sns.barplot(data=df_copy,x='travel_from',y='number_of_ticket', palette='viridis')\n",
    "plt.xticks(rotation=90)\n",
    "plt.title('Total tickets from each origin place')\n",
    "plt.xlabel('Origin Place')\n",
    "plt.ylabel('Number of Tickets')\n",
    "     "
   ]
  },
  {
   "cell_type": "markdown",
   "id": "335874ab",
   "metadata": {},
   "source": [
    "# What is/are the insight(s) found from the chart?\n",
    "Most number of tickets are sold from:\n",
    "\n",
    "Sirare\n",
    "\n",
    "Mbita\n",
    "\n",
    "Migori\n",
    "\n",
    "While the least number of tickets are sold from:\n",
    "\n",
    "Keumbu\n",
    "\n",
    "Kendu Bay"
   ]
  },
  {
   "cell_type": "code",
   "execution_count": 32,
   "id": "d8789c82",
   "metadata": {},
   "outputs": [
    {
     "data": {
      "text/plain": [
       "Text(0, 0.5, 'Count')"
      ]
     },
     "execution_count": 32,
     "metadata": {},
     "output_type": "execute_result"
    },
    {
     "data": {
      "image/png": "[encoded data removed]",
      "text/plain": [
       "<Figure size 720x432 with 1 Axes>"
      ]
     },
     "metadata": {
      "needs_background": "light"
     },
     "output_type": "display_data"
    }
   ],
   "source": [
    "\n",
    "# Chart - 5 visualization code\n",
    "\n",
    "#Monthwise Distribution of travellers\n",
    "\n",
    "plt.figure(figsize=(10,6))\n",
    "sns.histplot(df_copy['travel_month'],bins=12, color='teal')\n",
    "plt.title('Month wise distribution of travel')\n",
    "plt.xlabel('Months')\n",
    "plt.ylabel('Count')"
   ]
  },
  {
   "cell_type": "markdown",
   "id": "336187bd",
   "metadata": {},
   "source": [
    "# What is/are the insight(s) found from the chart?\n",
    "Most of the traveling is done in the months of January, February and December."
   ]
  },
  {
   "cell_type": "code",
   "execution_count": 33,
   "id": "a7c68c3c",
   "metadata": {},
   "outputs": [
    {
     "data": {
      "text/plain": [
       "Text(0, 0.5, 'Count')"
      ]
     },
     "execution_count": 33,
     "metadata": {},
     "output_type": "execute_result"
    },
    {
     "data": {
      "image/png": "[encoded data removed]",
      "text/plain": [
       "<Figure size 720x432 with 1 Axes>"
      ]
     },
     "metadata": {
      "needs_background": "light"
     },
     "output_type": "display_data"
    }
   ],
   "source": [
    "# Chart - 6 visualization code\n",
    "#Day of Monthwise Distribution of travellers\n",
    "plt.figure(figsize=(10,6))\n",
    "sns.histplot(df_copy['travel_day_of_month'],bins=12, color='teal')\n",
    "plt.title('Day of month wise distribution for travelling')\n",
    "plt.xlabel('Days of Month')\n",
    "plt.ylabel('Count')"
   ]
  },
  {
   "cell_type": "markdown",
   "id": "fe466382",
   "metadata": {},
   "source": [
    "# What is/are the insight(s) found from the chart?\n",
    "Most of the traveling is done from before 5th of the month, there seems to be no traveling done between 5th and 11th of the month. This can be because of transport holiday during this period every month."
   ]
  },
  {
   "cell_type": "code",
   "execution_count": 34,
   "id": "dc31529a",
   "metadata": {},
   "outputs": [
    {
     "data": {
      "text/plain": [
       "Text(0.5, 1.0, 'Number of tickets for every day of month')"
      ]
     },
     "execution_count": 34,
     "metadata": {},
     "output_type": "execute_result"
    },
    {
     "data": {
      "image/png": "[encoded data removed]",
      "text/plain": [
       "<Figure size 720x432 with 1 Axes>"
      ]
     },
     "metadata": {
      "needs_background": "light"
     },
     "output_type": "display_data"
    }
   ],
   "source": [
    "# Chart - 7 visualization code\n",
    "\n",
    "#Scatterplot of number of tickets sold for everyday of the month\n",
    "plt.figure(figsize=(10,6))\n",
    "sns.scatterplot(data=df_copy, x='travel_day_of_month',y='number_of_ticket',color='teal')\n",
    "plt.title('Number of tickets for every day of month')"
   ]
  },
  {
   "cell_type": "markdown",
   "id": "e3a247b0",
   "metadata": {},
   "source": [
    "# What is/are the insight(s) found from the chart?\n",
    "Similar to above graph, we can see there are no tickets sold between 5th and 11th of every month. Transport may be closed during this period every month because of tranport holiday."
   ]
  },
  {
   "cell_type": "code",
   "execution_count": 35,
   "id": "df49833f",
   "metadata": {},
   "outputs": [
    {
     "data": {
      "text/plain": [
       "Text(0.5, 1.0, 'Number of tickets for each hour of day')"
      ]
     },
     "execution_count": 35,
     "metadata": {},
     "output_type": "execute_result"
    },
    {
     "data": {
      "image/png": "[encoded data removed]",
      "text/plain": [
       "<Figure size 720x432 with 1 Axes>"
      ]
     },
     "metadata": {
      "needs_background": "light"
     },
     "output_type": "display_data"
    }
   ],
   "source": [
    "\n",
    "# Chart - 8 visualization code\n",
    "\n",
    "#Scatterplot for number of tickets in every hour of day.\n",
    "plt.figure(figsize=(10,6))\n",
    "sns.scatterplot(data=df_copy, x='travel_hour',y='number_of_ticket',color='teal')\n",
    "plt.title('Number of tickets for each hour of day')"
   ]
  },
  {
   "cell_type": "markdown",
   "id": "ced7f030",
   "metadata": {},
   "source": [
    "# What is/are the insight(s) found from the chart?\n",
    "In the day, most tickets are sold at 7AM and close to 7PM. This can be because people going to and returning from work in Nairobi at these times. Similarly, there are no tickets sold between 12PM and 5:30 PM"
   ]
  },
  {
   "cell_type": "code",
   "execution_count": 36,
   "id": "a1390890",
   "metadata": {},
   "outputs": [
    {
     "data": {
      "text/plain": [
       "Text(0.5, 1.0, 'Number of tickets for each period of day')"
      ]
     },
     "execution_count": 36,
     "metadata": {},
     "output_type": "execute_result"
    },
    {
     "data": {
      "image/png": "[encoded data removed]",
      "text/plain": [
       "<Figure size 720x432 with 1 Axes>"
      ]
     },
     "metadata": {
      "needs_background": "light"
     },
     "output_type": "display_data"
    }
   ],
   "source": [
    "# Chart - 9 visualization code\n",
    "\n",
    "#Bar chart for Number of tickets for each period of day\n",
    "plt.figure(figsize=(10,6))\n",
    "sns.barplot(data=df_copy, x='time_period_of_day',y='number_of_ticket', palette='viridis')\n",
    "plt.title('Number of tickets for each period of day')"
   ]
  },
  {
   "cell_type": "markdown",
   "id": "bab79452",
   "metadata": {},
   "source": [
    "# What is/are the insight(s) found from the chart?\n",
    "Most number of tickets are sold in evening followed by morning hours."
   ]
  },
  {
   "cell_type": "markdown",
   "id": "f686595c",
   "metadata": {},
   "source": [
    "# Hypothesis Testing\n",
    "Based on your chart experiments, define three hypothetical statements from the dataset. In the next three questions, perform hypothesis testing to obtain final conclusion about the statements through your code and statistical testing."
   ]
  },
  {
   "cell_type": "markdown",
   "id": "22e3af0f",
   "metadata": {},
   "source": [
    "1.Most number of tickets are sold in morning.\n",
    "\n",
    "2.The number of buses used in traveling is same as the number of shuttle used\n",
    "\n",
    "3.There is no traveling done in afternoon."
   ]
  },
  {
   "cell_type": "markdown",
   "id": "e4b8c213",
   "metadata": {},
   "source": [
    "# Hypothetical Statement - 1"
   ]
  },
  {
   "cell_type": "markdown",
   "id": "2681c77c",
   "metadata": {},
   "source": [
    "# 1. State Your research hypothesis as a null hypothesis and alternate hypothesis."
   ]
  },
  {
   "cell_type": "markdown",
   "id": "1303de10",
   "metadata": {},
   "source": [
    "Most number of tickets are sold in morning.\n",
    "\n",
    "Null Hypothesis : Most number of tickets are sold in morning\n",
    "\n",
    "Alternative Hypothesis : Most number of tickets are not sold in morning"
   ]
  },
  {
   "cell_type": "markdown",
   "id": "44b0a05b",
   "metadata": {},
   "source": [
    "# 2. Perform an appropriate statistical test."
   ]
  },
  {
   "cell_type": "code",
   "execution_count": 37,
   "id": "a46a75db",
   "metadata": {},
   "outputs": [
    {
     "data": {
      "text/plain": [
       "Text(0.5, 1.0, 'Number of tickets for each period of day')"
      ]
     },
     "execution_count": 37,
     "metadata": {},
     "output_type": "execute_result"
    },
    {
     "data": {
      "image/png": "[encoded data removed]",
      "text/plain": [
       "<Figure size 432x288 with 1 Axes>"
      ]
     },
     "metadata": {
      "needs_background": "light"
     },
     "output_type": "display_data"
    }
   ],
   "source": [
    "sns.barplot(data=df_copy, x='time_period_of_day',y='number_of_ticket', palette='viridis')\n",
    "plt.title('Number of tickets for each period of day')"
   ]
  },
  {
   "cell_type": "markdown",
   "id": "22a36bf8",
   "metadata": {},
   "source": [
    "From above we can see, max tickets are sold in evening, hence we can reject null hypothesis"
   ]
  },
  {
   "cell_type": "markdown",
   "id": "d6316e9d",
   "metadata": {},
   "source": [
    "# Hypothetical Statement - 2"
   ]
  },
  {
   "cell_type": "markdown",
   "id": "f4c54cc7",
   "metadata": {},
   "source": [
    "# 1. State Your research hypothesis as a null hypothesis and alternate hypothesis."
   ]
  },
  {
   "cell_type": "markdown",
   "id": "66ee43bc",
   "metadata": {},
   "source": [
    "Statement: The number of buses used in traveling is same as the number of shuttle used. Let Number of buses used be Nb, and Number of shuttle used be Ns\n",
    "\n",
    "Null Hypothesis (H0) : Nb = Ns\n",
    "\n",
    "Arlternative Hypothesis (Ha) : Nb != Ns"
   ]
  },
  {
   "cell_type": "markdown",
   "id": "1cdaa218",
   "metadata": {},
   "source": [
    "# 2. Perform an appropriate statistical test."
   ]
  },
  {
   "cell_type": "code",
   "execution_count": 38,
   "id": "791d78a7",
   "metadata": {},
   "outputs": [
    {
     "data": {
      "text/plain": [
       "Text(0, 0.5, 'Count')"
      ]
     },
     "execution_count": 38,
     "metadata": {},
     "output_type": "execute_result"
    },
    {
     "data": {
      "image/png": "[encoded data removed]",
      "text/plain": [
       "<Figure size 432x288 with 1 Axes>"
      ]
     },
     "metadata": {
      "needs_background": "light"
     },
     "output_type": "display_data"
    }
   ],
   "source": [
    "df_copy['car_type'].value_counts().plot(kind='bar',color='teal')\n",
    "plt.title(\"Types of transport used\")\n",
    "plt.xlabel('Car Type')\n",
    "plt.ylabel('Count')"
   ]
  },
  {
   "cell_type": "markdown",
   "id": "88ce0731",
   "metadata": {},
   "source": [
    "From above, Nb > Ns, hence we can reject Null Hypothesis."
   ]
  },
  {
   "cell_type": "markdown",
   "id": "990ff2e6",
   "metadata": {},
   "source": [
    "# Hypothetical Statement - 3"
   ]
  },
  {
   "cell_type": "markdown",
   "id": "3b705967",
   "metadata": {},
   "source": [
    "# 1. State Your research hypothesis as a null hypothesis and alternate hypothesis."
   ]
  },
  {
   "cell_type": "markdown",
   "id": "2bcf2e87",
   "metadata": {},
   "source": [
    "There is no traveling done in afternoon. Let number of travellers at afternoon period (12pm - 4pm) be Na.\n",
    "\n",
    "Null Hypothesis (H0) : Na = 0 (No travellers in afternoon)\n",
    "\n",
    "Alternative Hypothesis (Ha) : Na != 0"
   ]
  },
  {
   "cell_type": "markdown",
   "id": "28b6d85a",
   "metadata": {},
   "source": [
    "# 2. Perform an appropriate statistical test."
   ]
  },
  {
   "cell_type": "code",
   "execution_count": 39,
   "id": "40cac0fb",
   "metadata": {},
   "outputs": [
    {
     "data": {
      "text/plain": [
       "Text(0.5, 1.0, 'Number of tickets for each hour of day')"
      ]
     },
     "execution_count": 39,
     "metadata": {},
     "output_type": "execute_result"
    },
    {
     "data": {
      "image/png": "[encoded data removed]",
      "text/plain": [
       "<Figure size 432x288 with 1 Axes>"
      ]
     },
     "metadata": {
      "needs_background": "light"
     },
     "output_type": "display_data"
    }
   ],
   "source": [
    "sns.scatterplot(data=df_copy, x='travel_hour',y='number_of_ticket',color='teal')\n",
    "plt.title('Number of tickets for each hour of day')"
   ]
  },
  {
   "cell_type": "markdown",
   "id": "bf0ef473",
   "metadata": {},
   "source": [
    "From above we can see that between 12pm and 4pm (Afternoon), there are no travellers, or number of tickets sold are 0.\n",
    "\n",
    "Hence Na = 0, therefore we cannot reject Null Hypothesis."
   ]
  },
  {
   "cell_type": "markdown",
   "id": "39050137",
   "metadata": {},
   "source": [
    "# Feature Engineering, Data Pre-processing & Transformation"
   ]
  },
  {
   "cell_type": "markdown",
   "id": "c02e60b9",
   "metadata": {},
   "source": [
    "# 1. Feature Manipulation & Selection"
   ]
  },
  {
   "cell_type": "code",
   "execution_count": 40,
   "id": "6d605237",
   "metadata": {},
   "outputs": [
    {
     "data": {
      "text/plain": [
       "12    1050\n",
       "2      985\n",
       "1      896\n",
       "3      853\n",
       "4      600\n",
       "11     414\n",
       "9      262\n",
       "7      254\n",
       "8      251\n",
       "10     247\n",
       "6      225\n",
       "5      212\n",
       "Name: travel_month, dtype: int64"
      ]
     },
     "execution_count": 40,
     "metadata": {},
     "output_type": "execute_result"
    }
   ],
   "source": [
    "df_copy.travel_month.value_counts()"
   ]
  },
  {
   "cell_type": "code",
   "execution_count": 41,
   "id": "86ce825e",
   "metadata": {},
   "outputs": [
    {
     "data": {
      "text/plain": [
       "285    94\n",
       "348    89\n",
       "193    81\n",
       "224    81\n",
       "163    80\n",
       "       ..\n",
       "359     5\n",
       "290     1\n",
       "323     1\n",
       "330     1\n",
       "318     1\n",
       "Name: travel_day_of_year, Length: 149, dtype: int64"
      ]
     },
     "execution_count": 41,
     "metadata": {},
     "output_type": "execute_result"
    }
   ],
   "source": [
    "df_copy.travel_day_of_year.value_counts()"
   ]
  },
  {
   "cell_type": "code",
   "execution_count": 42,
   "id": "2e24ff9c",
   "metadata": {},
   "outputs": [
    {
     "data": {
      "text/plain": [
       "2     706\n",
       "12    685\n",
       "3     659\n",
       "4     446\n",
       "1     267\n",
       "13    249\n",
       "14    247\n",
       "16    238\n",
       "28    228\n",
       "19    226\n",
       "18    226\n",
       "15    213\n",
       "17    209\n",
       "20    202\n",
       "22    192\n",
       "21    183\n",
       "27    179\n",
       "29    177\n",
       "23    159\n",
       "24    137\n",
       "26    120\n",
       "30    113\n",
       "25     96\n",
       "31     92\n",
       "Name: travel_day_of_month, dtype: int64"
      ]
     },
     "execution_count": 42,
     "metadata": {},
     "output_type": "execute_result"
    }
   ],
   "source": [
    "df_copy.travel_day_of_month.value_counts()"
   ]
  },
  {
   "cell_type": "code",
   "execution_count": 43,
   "id": "14cad8f7",
   "metadata": {},
   "outputs": [
    {
     "data": {
      "text/plain": [
       "mor     4975\n",
       "em       988\n",
       "evn      225\n",
       "nght      61\n",
       "Name: time_period_of_day, dtype: int64"
      ]
     },
     "execution_count": 43,
     "metadata": {},
     "output_type": "execute_result"
    }
   ],
   "source": [
    "df_copy.time_period_of_day.value_counts()"
   ]
  },
  {
   "cell_type": "markdown",
   "id": "e4dae225",
   "metadata": {},
   "source": [
    "From above 3 value counts, we can see:\n",
    "\n",
    "  1.Some months have higher frequency of travel\n",
    "\n",
    "  2.Some days in year have very high frequency of travelers, while others have really low frequency. This is because of more         traveling being done in some month than others.\n",
    "\n",
    "  3.Some days in a month have high frequeny of travel than others.\n",
    "\n",
    "  4.Some period in the day have high frequency of travel.\n",
    "\n",
    "To manage this, we will create a dictionary of the frequency for the 4 columns above and create 4 new columns taking log transform for the same."
   ]
  },
  {
   "cell_type": "code",
   "execution_count": 44,
   "id": "18073868",
   "metadata": {},
   "outputs": [],
   "source": [
    "# Manipulate Features to minimize feature correlation and create new features\n",
    "period_dict = dict(df_copy.time_period_of_day.value_counts())\n",
    "df_copy['travel_hour_wise_weights'] = np.log1p(df_copy.time_period_of_day.map(period_dict))\n",
    "\n",
    "# Creating a seperate column for giving day of a year wise weights for the hours column\n",
    "day_of_year_dict = dict(df_copy.travel_day_of_year.value_counts())\n",
    "df_copy['travel_day_of_year_wise_weights'] = np.log1p(df_copy.travel_day_of_year.map(day_of_year_dict))\n",
    "\n",
    "# Giving weights to the each days of the month based on the frequency of ticket bookings\n",
    "day_of_month_wise_weights_dict = {2:1, 12:1, 3:1, 4:2, 1:3, 13:3, 14:3, 16:3, 28:3, 19:3, 18:3, 15:3, 17:3, 20:3, 22:4, 21:4, 27:4, 29:4, 23:4, 24:4, 26:4, 30:4, 25:4, 31:4}\n",
    "df_copy['travel_day_of_month_wise_weights'] = df_copy.travel_day_of_month.replace(day_of_month_wise_weights_dict)\n",
    "\n",
    "# Creating a column for giving weights to the each months of a year based on the frequency of ticket bookings\n",
    "travel_month_wise_weights_dict = {12: 1,\n",
    " 2: 1,\n",
    " 1: 1,\n",
    " 3: 1,\n",
    " 4: 1,\n",
    " 11: 2,\n",
    " 9: 3,\n",
    " 7: 3,\n",
    " 8: 3,\n",
    " 10: 3,\n",
    " 6: 3,\n",
    " 5: 3}\n",
    "df_copy['travel_month_wise_weights'] = df_copy.travel_month.replace(travel_month_wise_weights_dict)"
   ]
  },
  {
   "cell_type": "code",
   "execution_count": 45,
   "id": "f3ae87af",
   "metadata": {},
   "outputs": [
    {
     "data": {
      "text/html": [
       "<div>\n",
       "<style scoped>\n",
       "    .dataframe tbody tr th:only-of-type {\n",
       "        vertical-align: middle;\n",
       "    }\n",
       "\n",
       "    .dataframe tbody tr th {\n",
       "        vertical-align: top;\n",
       "    }\n",
       "\n",
       "    .dataframe thead th {\n",
       "        text-align: right;\n",
       "    }\n",
       "</style>\n",
       "<table border=\"1\" class=\"dataframe\">\n",
       "  <thead>\n",
       "    <tr style=\"text-align: right;\">\n",
       "      <th></th>\n",
       "      <th>ride_id</th>\n",
       "      <th>travel_date</th>\n",
       "      <th>travel_time</th>\n",
       "      <th>travel_from</th>\n",
       "      <th>car_type</th>\n",
       "      <th>max_capacity</th>\n",
       "      <th>number_of_ticket</th>\n",
       "      <th>date_time</th>\n",
       "      <th>travel_month</th>\n",
       "      <th>travel_year</th>\n",
       "      <th>...</th>\n",
       "      <th>travel_day_of_year</th>\n",
       "      <th>travel_day_of_week</th>\n",
       "      <th>travel_hour</th>\n",
       "      <th>quarter</th>\n",
       "      <th>is_weekend</th>\n",
       "      <th>time_period_of_day</th>\n",
       "      <th>travel_hour_wise_weights</th>\n",
       "      <th>travel_day_of_year_wise_weights</th>\n",
       "      <th>travel_day_of_month_wise_weights</th>\n",
       "      <th>travel_month_wise_weights</th>\n",
       "    </tr>\n",
       "  </thead>\n",
       "  <tbody>\n",
       "    <tr>\n",
       "      <th>0</th>\n",
       "      <td>1442</td>\n",
       "      <td>2017-10-17</td>\n",
       "      <td>7.25</td>\n",
       "      <td>Migori</td>\n",
       "      <td>Bus</td>\n",
       "      <td>49</td>\n",
       "      <td>1</td>\n",
       "      <td>2017-10-17 07:15:00</td>\n",
       "      <td>10</td>\n",
       "      <td>2017</td>\n",
       "      <td>...</td>\n",
       "      <td>290</td>\n",
       "      <td>1</td>\n",
       "      <td>7</td>\n",
       "      <td>4</td>\n",
       "      <td>0</td>\n",
       "      <td>mor</td>\n",
       "      <td>8.512382</td>\n",
       "      <td>0.693147</td>\n",
       "      <td>3</td>\n",
       "      <td>3</td>\n",
       "    </tr>\n",
       "    <tr>\n",
       "      <th>1</th>\n",
       "      <td>5437</td>\n",
       "      <td>2017-11-19</td>\n",
       "      <td>7.20</td>\n",
       "      <td>Migori</td>\n",
       "      <td>Bus</td>\n",
       "      <td>49</td>\n",
       "      <td>1</td>\n",
       "      <td>2017-11-19 07:12:00</td>\n",
       "      <td>11</td>\n",
       "      <td>2017</td>\n",
       "      <td>...</td>\n",
       "      <td>323</td>\n",
       "      <td>6</td>\n",
       "      <td>7</td>\n",
       "      <td>4</td>\n",
       "      <td>1</td>\n",
       "      <td>mor</td>\n",
       "      <td>8.512382</td>\n",
       "      <td>0.693147</td>\n",
       "      <td>3</td>\n",
       "      <td>2</td>\n",
       "    </tr>\n",
       "    <tr>\n",
       "      <th>2</th>\n",
       "      <td>5710</td>\n",
       "      <td>2017-11-26</td>\n",
       "      <td>7.08</td>\n",
       "      <td>Keroka</td>\n",
       "      <td>Bus</td>\n",
       "      <td>49</td>\n",
       "      <td>1</td>\n",
       "      <td>2017-11-26 07:05:00</td>\n",
       "      <td>11</td>\n",
       "      <td>2017</td>\n",
       "      <td>...</td>\n",
       "      <td>330</td>\n",
       "      <td>6</td>\n",
       "      <td>7</td>\n",
       "      <td>4</td>\n",
       "      <td>1</td>\n",
       "      <td>mor</td>\n",
       "      <td>8.512382</td>\n",
       "      <td>0.693147</td>\n",
       "      <td>4</td>\n",
       "      <td>2</td>\n",
       "    </tr>\n",
       "  </tbody>\n",
       "</table>\n",
       "<p>3 rows × 21 columns</p>\n",
       "</div>"
      ],
      "text/plain": [
       "   ride_id travel_date  travel_time travel_from car_type  max_capacity  \\\n",
       "0     1442  2017-10-17         7.25      Migori      Bus            49   \n",
       "1     5437  2017-11-19         7.20      Migori      Bus            49   \n",
       "2     5710  2017-11-26         7.08      Keroka      Bus            49   \n",
       "\n",
       "   number_of_ticket           date_time  travel_month  travel_year  ...  \\\n",
       "0                 1 2017-10-17 07:15:00            10         2017  ...   \n",
       "1                 1 2017-11-19 07:12:00            11         2017  ...   \n",
       "2                 1 2017-11-26 07:05:00            11         2017  ...   \n",
       "\n",
       "   travel_day_of_year  travel_day_of_week  travel_hour  quarter  is_weekend  \\\n",
       "0                 290                   1            7        4           0   \n",
       "1                 323                   6            7        4           1   \n",
       "2                 330                   6            7        4           1   \n",
       "\n",
       "   time_period_of_day travel_hour_wise_weights  \\\n",
       "0                 mor                 8.512382   \n",
       "1                 mor                 8.512382   \n",
       "2                 mor                 8.512382   \n",
       "\n",
       "   travel_day_of_year_wise_weights  travel_day_of_month_wise_weights  \\\n",
       "0                         0.693147                                 3   \n",
       "1                         0.693147                                 3   \n",
       "2                         0.693147                                 4   \n",
       "\n",
       "   travel_month_wise_weights  \n",
       "0                          3  \n",
       "1                          2  \n",
       "2                          2  \n",
       "\n",
       "[3 rows x 21 columns]"
      ]
     },
     "execution_count": 45,
     "metadata": {},
     "output_type": "execute_result"
    }
   ],
   "source": [
    "df_copy.head(3)"
   ]
  },
  {
   "cell_type": "code",
   "execution_count": 46,
   "id": "a777b913",
   "metadata": {},
   "outputs": [],
   "source": [
    "# Creating a method to create new features in df\n",
    "\n",
    "# Creating columns for time difference between next and previous buses for each of the origin places (travel_from).\n",
    "def find_difference_bw_bus(data):\n",
    "\n",
    "  data.sort_values([\"travel_from\",\"date_time\"],inplace=True,ascending=True)\n",
    "  data[\"Time_gap_btw_0_1_next_bus\"]=(data[\"date_time\"]-data.groupby([\"travel_from\"]).date_time.shift(-1)).dt.total_seconds()/3600\n",
    "  data[\"Time_gap_btw_0_1_previous_bus\"]=(data[\"date_time\"]-data.groupby([\"travel_from\"]).date_time.shift(1)).dt.total_seconds()/3600\n",
    "  data[\"Time_gap_btw_0_2_next_bus\"]=(data[\"date_time\"]-data.groupby([\"travel_from\"]).date_time.shift(-2)).dt.total_seconds()/3600\n",
    "  data[\"Time_gap_btw_0_2_previous_bus\"]=(data[\"date_time\"]-data.groupby([\"travel_from\"]).date_time.shift(2)).dt.total_seconds()/3600\n",
    "  data[\"Time_gap_btw_0_3_next_bus\"]=(data[\"date_time\"]-data.groupby([\"travel_from\"]).date_time.shift(-3)).dt.total_seconds()/3600\n",
    "  data[\"Time_gap_btw_0_3_previous_bus\"]=(data[\"date_time\"]-data.groupby([\"travel_from\"]).date_time.shift(3)).dt.total_seconds()/3600\n",
    "  data[\"Time_gap_btw_next_previous_bus\"]=(data.groupby([\"travel_from\"]).date_time.shift(-1)-data.groupby([\"travel_from\"]).date_time.shift(1)).dt.total_seconds()/3600\n",
    "  cols=[\"Time_gap_btw_0_1_next_bus\", \"Time_gap_btw_0_1_previous_bus\", \"Time_gap_btw_0_2_next_bus\",\"Time_gap_btw_0_2_previous_bus\",\n",
    "      \"Time_gap_btw_0_3_next_bus\", \"Time_gap_btw_0_3_previous_bus\",\n",
    "      \"Time_gap_btw_next_previous_bus\"]\n",
    "\n",
    "  #Handling missing values\n",
    "  data[cols]=data.groupby([\"travel_from\"])[cols].fillna(method=\"ffill\")\n",
    "  data[cols]=data.groupby([\"travel_from\"])[cols].fillna(method=\"backfill\")\n",
    "\n",
    "\n",
    "  return data"
   ]
  },
  {
   "cell_type": "code",
   "execution_count": 47,
   "id": "7cc23e74",
   "metadata": {},
   "outputs": [],
   "source": [
    "transport_data_new = find_difference_bw_bus(df_copy)    "
   ]
  },
  {
   "cell_type": "code",
   "execution_count": 48,
   "id": "1efadd5f",
   "metadata": {},
   "outputs": [
    {
     "data": {
      "text/plain": [
       "502    2018-01-04 07:08:00\n",
       "5530   2018-01-04 07:12:00\n",
       "5533   2018-01-04 07:13:00\n",
       "5539   2018-01-04 08:00:00\n",
       "5528   2018-01-13 07:08:00\n",
       "               ...        \n",
       "5833   2018-11-04 07:05:00\n",
       "5875   2018-11-04 23:10:00\n",
       "5834   2018-12-04 07:05:00\n",
       "5921   2018-12-04 23:10:00\n",
       "5884                   NaT\n",
       "Name: date_time, Length: 6249, dtype: datetime64[ns]"
      ]
     },
     "execution_count": 48,
     "metadata": {},
     "output_type": "execute_result"
    }
   ],
   "source": [
    "transport_data_new.groupby([\"travel_from\"]).date_time.shift(-1)"
   ]
  },
  {
   "cell_type": "code",
   "execution_count": 49,
   "id": "81f2b62f",
   "metadata": {},
   "outputs": [
    {
     "data": {
      "text/html": [
       "<div>\n",
       "<style scoped>\n",
       "    .dataframe tbody tr th:only-of-type {\n",
       "        vertical-align: middle;\n",
       "    }\n",
       "\n",
       "    .dataframe tbody tr th {\n",
       "        vertical-align: top;\n",
       "    }\n",
       "\n",
       "    .dataframe thead th {\n",
       "        text-align: right;\n",
       "    }\n",
       "</style>\n",
       "<table border=\"1\" class=\"dataframe\">\n",
       "  <thead>\n",
       "    <tr style=\"text-align: right;\">\n",
       "      <th></th>\n",
       "      <th>travel_from</th>\n",
       "      <th>date_time</th>\n",
       "      <th>Time_gap_btw_0_1_next_bus</th>\n",
       "      <th>Time_gap_btw_0_1_previous_bus</th>\n",
       "    </tr>\n",
       "  </thead>\n",
       "  <tbody>\n",
       "    <tr>\n",
       "      <th>502</th>\n",
       "      <td>Awendo</td>\n",
       "      <td>2017-05-12 07:08:00</td>\n",
       "      <td>-5688.000000</td>\n",
       "      <td>5688.000000</td>\n",
       "    </tr>\n",
       "    <tr>\n",
       "      <th>5530</th>\n",
       "      <td>Awendo</td>\n",
       "      <td>2018-01-04 07:08:00</td>\n",
       "      <td>-0.066667</td>\n",
       "      <td>5688.000000</td>\n",
       "    </tr>\n",
       "    <tr>\n",
       "      <th>5533</th>\n",
       "      <td>Awendo</td>\n",
       "      <td>2018-01-04 07:12:00</td>\n",
       "      <td>-0.016667</td>\n",
       "      <td>0.066667</td>\n",
       "    </tr>\n",
       "    <tr>\n",
       "      <th>5539</th>\n",
       "      <td>Awendo</td>\n",
       "      <td>2018-01-04 07:13:00</td>\n",
       "      <td>-0.783333</td>\n",
       "      <td>0.016667</td>\n",
       "    </tr>\n",
       "    <tr>\n",
       "      <th>5528</th>\n",
       "      <td>Awendo</td>\n",
       "      <td>2018-01-04 08:00:00</td>\n",
       "      <td>-215.133333</td>\n",
       "      <td>0.783333</td>\n",
       "    </tr>\n",
       "  </tbody>\n",
       "</table>\n",
       "</div>"
      ],
      "text/plain": [
       "     travel_from           date_time  Time_gap_btw_0_1_next_bus  \\\n",
       "502       Awendo 2017-05-12 07:08:00               -5688.000000   \n",
       "5530      Awendo 2018-01-04 07:08:00                  -0.066667   \n",
       "5533      Awendo 2018-01-04 07:12:00                  -0.016667   \n",
       "5539      Awendo 2018-01-04 07:13:00                  -0.783333   \n",
       "5528      Awendo 2018-01-04 08:00:00                -215.133333   \n",
       "\n",
       "      Time_gap_btw_0_1_previous_bus  \n",
       "502                     5688.000000  \n",
       "5530                    5688.000000  \n",
       "5533                       0.066667  \n",
       "5539                       0.016667  \n",
       "5528                       0.783333  "
      ]
     },
     "execution_count": 49,
     "metadata": {},
     "output_type": "execute_result"
    }
   ],
   "source": [
    "transport_data_new[['travel_from','date_time','Time_gap_btw_0_1_next_bus','Time_gap_btw_0_1_previous_bus']].head()"
   ]
  },
  {
   "cell_type": "code",
   "execution_count": 50,
   "id": "b40df3ea",
   "metadata": {},
   "outputs": [],
   "source": [
    "# Making a dictionary containing distances of originating places from nairobi, taken from google maps\n",
    "distance_from_nairobi = {'Awendo':351, 'Homa Bay':360, 'Kehancha': 387.7, 'Keroka': 280, 'Keumbu':295, 'Kijauri':271,\n",
    "                         'Kisii':305.1, 'Mbita':401, 'Migori': 370, 'Ndhiwa': 371, 'Nyachenge':326, 'Rodi':348, 'Rongo':332,\n",
    "                         'Sirare':392, 'Sori':399}\n",
    "\n",
    "transport_data_new['distance_to_destination'] = transport_data_new['travel_from'].map(distance_from_nairobi)"
   ]
  },
  {
   "cell_type": "code",
   "execution_count": 51,
   "id": "0934252d",
   "metadata": {},
   "outputs": [
    {
     "data": {
      "text/plain": [
       "Index(['ride_id', 'travel_date', 'travel_time', 'travel_from', 'car_type',\n",
       "       'max_capacity', 'number_of_ticket', 'date_time', 'travel_month',\n",
       "       'travel_year', 'travel_day_of_month', 'travel_day_of_year',\n",
       "       'travel_day_of_week', 'travel_hour', 'quarter', 'is_weekend',\n",
       "       'time_period_of_day', 'travel_hour_wise_weights',\n",
       "       'travel_day_of_year_wise_weights', 'travel_day_of_month_wise_weights',\n",
       "       'travel_month_wise_weights', 'Time_gap_btw_0_1_next_bus',\n",
       "       'Time_gap_btw_0_1_previous_bus', 'Time_gap_btw_0_2_next_bus',\n",
       "       'Time_gap_btw_0_2_previous_bus', 'Time_gap_btw_0_3_next_bus',\n",
       "       'Time_gap_btw_0_3_previous_bus', 'Time_gap_btw_next_previous_bus',\n",
       "       'distance_to_destination'],\n",
       "      dtype='object')"
      ]
     },
     "execution_count": 51,
     "metadata": {},
     "output_type": "execute_result"
    }
   ],
   "source": [
    "transport_data_new.columns"
   ]
  },
  {
   "cell_type": "markdown",
   "id": "b46b9073",
   "metadata": {},
   "source": [
    "# 2. Handling Missing Values"
   ]
  },
  {
   "cell_type": "code",
   "execution_count": 52,
   "id": "9362bbbe",
   "metadata": {},
   "outputs": [
    {
     "data": {
      "text/plain": [
       "ride_id                             0\n",
       "travel_date                         0\n",
       "travel_time                         0\n",
       "travel_from                         0\n",
       "car_type                            0\n",
       "max_capacity                        0\n",
       "number_of_ticket                    0\n",
       "date_time                           0\n",
       "travel_month                        0\n",
       "travel_year                         0\n",
       "travel_day_of_month                 0\n",
       "travel_day_of_year                  0\n",
       "travel_day_of_week                  0\n",
       "travel_hour                         0\n",
       "quarter                             0\n",
       "is_weekend                          0\n",
       "time_period_of_day                  0\n",
       "travel_hour_wise_weights            0\n",
       "travel_day_of_year_wise_weights     0\n",
       "travel_day_of_month_wise_weights    0\n",
       "travel_month_wise_weights           0\n",
       "Time_gap_btw_0_1_next_bus           1\n",
       "Time_gap_btw_0_1_previous_bus       1\n",
       "Time_gap_btw_0_2_next_bus           3\n",
       "Time_gap_btw_0_2_previous_bus       3\n",
       "Time_gap_btw_0_3_next_bus           3\n",
       "Time_gap_btw_0_3_previous_bus       3\n",
       "Time_gap_btw_next_previous_bus      3\n",
       "distance_to_destination             3\n",
       "dtype: int64"
      ]
     },
     "execution_count": 52,
     "metadata": {},
     "output_type": "execute_result"
    }
   ],
   "source": [
    "# Handling Missing Values & Missing Value Imputation\n",
    "transport_data_new.isnull().sum()"
   ]
  },
  {
   "cell_type": "code",
   "execution_count": 53,
   "id": "86a1d8a4",
   "metadata": {},
   "outputs": [],
   "source": [
    "transport_data_new.dropna(inplace=True)"
   ]
  },
  {
   "cell_type": "markdown",
   "id": "63ec41bd",
   "metadata": {},
   "source": [
    "# Multicollinearity"
   ]
  },
  {
   "cell_type": "code",
   "execution_count": 54,
   "id": "4962c45c",
   "metadata": {},
   "outputs": [
    {
     "data": {
      "text/plain": [
       "<AxesSubplot:>"
      ]
     },
     "execution_count": 54,
     "metadata": {},
     "output_type": "execute_result"
    },
    {
     "data": {
      "image/png": "[encoded data removed]",
      "text/plain": [
       "<Figure size 1080x1080 with 2 Axes>"
      ]
     },
     "metadata": {
      "needs_background": "light"
     },
     "output_type": "display_data"
    }
   ],
   "source": [
    "plt.figure(figsize=(15,15))\n",
    "sns.heatmap(transport_data_new.corr(),annot=True)\n",
    "     "
   ]
  },
  {
   "cell_type": "markdown",
   "id": "2441e861",
   "metadata": {},
   "source": [
    "Many columns have high correlation with newly formed features. Hence columns like travel_month, travel_day_of_year, travel_day_of_month, etc. will be dropped because we have already created new weighted columns for these."
   ]
  },
  {
   "cell_type": "markdown",
   "id": "bec8b3df",
   "metadata": {},
   "source": [
    "# Categorical Encoding + Data Splitting"
   ]
  },
  {
   "cell_type": "code",
   "execution_count": 55,
   "id": "5430a2ed",
   "metadata": {},
   "outputs": [],
   "source": [
    "# Encode your categorical columns\n",
    "from sklearn import preprocessing\n",
    "final_df = pd.get_dummies(df_copy, columns = ['travel_from','travel_day_of_month_wise_weights','travel_month_wise_weights'])\n",
    "     "
   ]
  },
  {
   "cell_type": "code",
   "execution_count": 56,
   "id": "93d22811",
   "metadata": {},
   "outputs": [
    {
     "data": {
      "text/html": [
       "<div>\n",
       "<style scoped>\n",
       "    .dataframe tbody tr th:only-of-type {\n",
       "        vertical-align: middle;\n",
       "    }\n",
       "\n",
       "    .dataframe tbody tr th {\n",
       "        vertical-align: top;\n",
       "    }\n",
       "\n",
       "    .dataframe thead th {\n",
       "        text-align: right;\n",
       "    }\n",
       "</style>\n",
       "<table border=\"1\" class=\"dataframe\">\n",
       "  <thead>\n",
       "    <tr style=\"text-align: right;\">\n",
       "      <th></th>\n",
       "      <th>ride_id</th>\n",
       "      <th>travel_date</th>\n",
       "      <th>travel_time</th>\n",
       "      <th>car_type</th>\n",
       "      <th>max_capacity</th>\n",
       "      <th>number_of_ticket</th>\n",
       "      <th>date_time</th>\n",
       "      <th>travel_month</th>\n",
       "      <th>travel_year</th>\n",
       "      <th>travel_day_of_month</th>\n",
       "      <th>...</th>\n",
       "      <th>travel_from_Rongo</th>\n",
       "      <th>travel_from_Sirare</th>\n",
       "      <th>travel_from_Sori</th>\n",
       "      <th>travel_day_of_month_wise_weights_1</th>\n",
       "      <th>travel_day_of_month_wise_weights_2</th>\n",
       "      <th>travel_day_of_month_wise_weights_3</th>\n",
       "      <th>travel_day_of_month_wise_weights_4</th>\n",
       "      <th>travel_month_wise_weights_1</th>\n",
       "      <th>travel_month_wise_weights_2</th>\n",
       "      <th>travel_month_wise_weights_3</th>\n",
       "    </tr>\n",
       "  </thead>\n",
       "  <tbody>\n",
       "    <tr>\n",
       "      <th>502</th>\n",
       "      <td>6654</td>\n",
       "      <td>2017-05-12</td>\n",
       "      <td>7.13</td>\n",
       "      <td>1</td>\n",
       "      <td>49</td>\n",
       "      <td>2</td>\n",
       "      <td>2017-05-12 07:08:00</td>\n",
       "      <td>5</td>\n",
       "      <td>2017</td>\n",
       "      <td>12</td>\n",
       "      <td>...</td>\n",
       "      <td>0</td>\n",
       "      <td>0</td>\n",
       "      <td>0</td>\n",
       "      <td>1</td>\n",
       "      <td>0</td>\n",
       "      <td>0</td>\n",
       "      <td>0</td>\n",
       "      <td>0</td>\n",
       "      <td>0</td>\n",
       "      <td>1</td>\n",
       "    </tr>\n",
       "    <tr>\n",
       "      <th>5530</th>\n",
       "      <td>12926</td>\n",
       "      <td>2018-01-04</td>\n",
       "      <td>7.13</td>\n",
       "      <td>1</td>\n",
       "      <td>49</td>\n",
       "      <td>20</td>\n",
       "      <td>2018-01-04 07:08:00</td>\n",
       "      <td>1</td>\n",
       "      <td>2018</td>\n",
       "      <td>4</td>\n",
       "      <td>...</td>\n",
       "      <td>0</td>\n",
       "      <td>0</td>\n",
       "      <td>0</td>\n",
       "      <td>0</td>\n",
       "      <td>1</td>\n",
       "      <td>0</td>\n",
       "      <td>0</td>\n",
       "      <td>1</td>\n",
       "      <td>0</td>\n",
       "      <td>0</td>\n",
       "    </tr>\n",
       "    <tr>\n",
       "      <th>5533</th>\n",
       "      <td>12929</td>\n",
       "      <td>2018-01-04</td>\n",
       "      <td>7.20</td>\n",
       "      <td>1</td>\n",
       "      <td>49</td>\n",
       "      <td>2</td>\n",
       "      <td>2018-01-04 07:12:00</td>\n",
       "      <td>1</td>\n",
       "      <td>2018</td>\n",
       "      <td>4</td>\n",
       "      <td>...</td>\n",
       "      <td>0</td>\n",
       "      <td>0</td>\n",
       "      <td>0</td>\n",
       "      <td>0</td>\n",
       "      <td>1</td>\n",
       "      <td>0</td>\n",
       "      <td>0</td>\n",
       "      <td>1</td>\n",
       "      <td>0</td>\n",
       "      <td>0</td>\n",
       "    </tr>\n",
       "    <tr>\n",
       "      <th>5539</th>\n",
       "      <td>12935</td>\n",
       "      <td>2018-01-04</td>\n",
       "      <td>7.22</td>\n",
       "      <td>1</td>\n",
       "      <td>49</td>\n",
       "      <td>9</td>\n",
       "      <td>2018-01-04 07:13:00</td>\n",
       "      <td>1</td>\n",
       "      <td>2018</td>\n",
       "      <td>4</td>\n",
       "      <td>...</td>\n",
       "      <td>0</td>\n",
       "      <td>0</td>\n",
       "      <td>0</td>\n",
       "      <td>0</td>\n",
       "      <td>1</td>\n",
       "      <td>0</td>\n",
       "      <td>0</td>\n",
       "      <td>1</td>\n",
       "      <td>0</td>\n",
       "      <td>0</td>\n",
       "    </tr>\n",
       "    <tr>\n",
       "      <th>5528</th>\n",
       "      <td>12924</td>\n",
       "      <td>2018-01-04</td>\n",
       "      <td>8.00</td>\n",
       "      <td>1</td>\n",
       "      <td>49</td>\n",
       "      <td>15</td>\n",
       "      <td>2018-01-04 08:00:00</td>\n",
       "      <td>1</td>\n",
       "      <td>2018</td>\n",
       "      <td>4</td>\n",
       "      <td>...</td>\n",
       "      <td>0</td>\n",
       "      <td>0</td>\n",
       "      <td>0</td>\n",
       "      <td>0</td>\n",
       "      <td>1</td>\n",
       "      <td>0</td>\n",
       "      <td>0</td>\n",
       "      <td>1</td>\n",
       "      <td>0</td>\n",
       "      <td>0</td>\n",
       "    </tr>\n",
       "  </tbody>\n",
       "</table>\n",
       "<p>5 rows × 48 columns</p>\n",
       "</div>"
      ],
      "text/plain": [
       "      ride_id travel_date  travel_time  car_type  max_capacity  \\\n",
       "502      6654  2017-05-12         7.13         1            49   \n",
       "5530    12926  2018-01-04         7.13         1            49   \n",
       "5533    12929  2018-01-04         7.20         1            49   \n",
       "5539    12935  2018-01-04         7.22         1            49   \n",
       "5528    12924  2018-01-04         8.00         1            49   \n",
       "\n",
       "      number_of_ticket           date_time  travel_month  travel_year  \\\n",
       "502                  2 2017-05-12 07:08:00             5         2017   \n",
       "5530                20 2018-01-04 07:08:00             1         2018   \n",
       "5533                 2 2018-01-04 07:12:00             1         2018   \n",
       "5539                 9 2018-01-04 07:13:00             1         2018   \n",
       "5528                15 2018-01-04 08:00:00             1         2018   \n",
       "\n",
       "      travel_day_of_month  ...  travel_from_Rongo  travel_from_Sirare  \\\n",
       "502                    12  ...                  0                   0   \n",
       "5530                    4  ...                  0                   0   \n",
       "5533                    4  ...                  0                   0   \n",
       "5539                    4  ...                  0                   0   \n",
       "5528                    4  ...                  0                   0   \n",
       "\n",
       "      travel_from_Sori  travel_day_of_month_wise_weights_1  \\\n",
       "502                  0                                   1   \n",
       "5530                 0                                   0   \n",
       "5533                 0                                   0   \n",
       "5539                 0                                   0   \n",
       "5528                 0                                   0   \n",
       "\n",
       "      travel_day_of_month_wise_weights_2 travel_day_of_month_wise_weights_3  \\\n",
       "502                                    0                                  0   \n",
       "5530                                   1                                  0   \n",
       "5533                                   1                                  0   \n",
       "5539                                   1                                  0   \n",
       "5528                                   1                                  0   \n",
       "\n",
       "      travel_day_of_month_wise_weights_4  travel_month_wise_weights_1  \\\n",
       "502                                    0                            0   \n",
       "5530                                   0                            1   \n",
       "5533                                   0                            1   \n",
       "5539                                   0                            1   \n",
       "5528                                   0                            1   \n",
       "\n",
       "      travel_month_wise_weights_2  travel_month_wise_weights_3  \n",
       "502                             0                            1  \n",
       "5530                            0                            0  \n",
       "5533                            0                            0  \n",
       "5539                            0                            0  \n",
       "5528                            0                            0  \n",
       "\n",
       "[5 rows x 48 columns]"
      ]
     },
     "execution_count": 56,
     "metadata": {},
     "output_type": "execute_result"
    }
   ],
   "source": [
    "#Label encoding car_type column\n",
    "label_encoder = {'Bus':1,'shuttle':0}\n",
    "final_df.replace(label_encoder, inplace=True)\n",
    "final_df.head()\n",
    "     "
   ]
  },
  {
   "cell_type": "markdown",
   "id": "24be941f",
   "metadata": {},
   "source": [
    "We have done one hot encoding on few categorical features, where label encoding on car_type"
   ]
  },
  {
   "cell_type": "markdown",
   "id": "937f9545",
   "metadata": {},
   "source": [
    "# Data Splitting"
   ]
  },
  {
   "cell_type": "code",
   "execution_count": 57,
   "id": "53c1877a",
   "metadata": {},
   "outputs": [
    {
     "data": {
      "text/plain": [
       "(6246, 36)"
      ]
     },
     "execution_count": 57,
     "metadata": {},
     "output_type": "execute_result"
    }
   ],
   "source": [
    "#Seperating target variable and indpendent features variable\n",
    "cols_to_drop = ['ride_id','travel_date','travel_time','max_capacity','travel_year','number_of_ticket','time_period_of_day','date_time','travel_month','travel_day_of_month','travel_day_of_year','travel_hour']\n",
    "X = final_df.drop(cols_to_drop,axis=1)\n",
    "X.shape"
   ]
  },
  {
   "cell_type": "code",
   "execution_count": 58,
   "id": "fd1b26bc",
   "metadata": {},
   "outputs": [
    {
     "data": {
      "text/plain": [
       "(6246,)"
      ]
     },
     "execution_count": 58,
     "metadata": {},
     "output_type": "execute_result"
    }
   ],
   "source": [
    "#Target Variable\n",
    "y = final_df['number_of_ticket'].values\n",
    "y.shape"
   ]
  },
  {
   "cell_type": "code",
   "execution_count": 59,
   "id": "b73cfb4a",
   "metadata": {},
   "outputs": [],
   "source": [
    "# Split your data to train and test.\n",
    "from sklearn.model_selection import train_test_split\n",
    "\n",
    "X_train, X_test, y_train, y_test = train_test_split(X, y, test_size=0.2, random_state=42)"
   ]
  },
  {
   "cell_type": "code",
   "execution_count": 60,
   "id": "954eef92",
   "metadata": {},
   "outputs": [
    {
     "data": {
      "text/plain": [
       "(4996, 36)"
      ]
     },
     "execution_count": 60,
     "metadata": {},
     "output_type": "execute_result"
    }
   ],
   "source": [
    "X_train.shape"
   ]
  },
  {
   "cell_type": "code",
   "execution_count": 61,
   "id": "87dd2258",
   "metadata": {},
   "outputs": [
    {
     "data": {
      "text/plain": [
       "(4996,)"
      ]
     },
     "execution_count": 61,
     "metadata": {},
     "output_type": "execute_result"
    }
   ],
   "source": [
    "y_train.shape"
   ]
  },
  {
   "cell_type": "markdown",
   "id": "05282733",
   "metadata": {},
   "source": [
    "# ML Model Implementation"
   ]
  },
  {
   "cell_type": "code",
   "execution_count": 62,
   "id": "18ba8aaf",
   "metadata": {},
   "outputs": [],
   "source": [
    "#Importing required libraries\n",
    "from sklearn.linear_model import LinearRegression\n",
    "from sklearn.linear_model import Lasso\n",
    "from sklearn.linear_model import Ridge\n",
    "from sklearn.ensemble import RandomForestRegressor\n",
    "import xgboost as xgb\n",
    "from sklearn.metrics import mean_squared_error,r2_score,mean_absolute_error,mean_absolute_percentage_error\n",
    "import math\n",
    "     "
   ]
  },
  {
   "cell_type": "code",
   "execution_count": 63,
   "id": "ef7ec2a2",
   "metadata": {},
   "outputs": [],
   "source": [
    "#Creating function for evaluation metrics\n",
    "def evaluate_metric(actual,predicted):\n",
    "  print('MSE is {}'.format(mean_squared_error(actual, predicted)))\n",
    "  print('RMSE is {}'.format(math.sqrt(mean_squared_error(actual, predicted))))\n",
    "  print('MAE is {}'.format(mean_absolute_error(actual, predicted)))\n",
    "  print('MAPE is {}'.format(np.mean(np.abs((actual - predicted) / actual)) * 100))\n",
    "  print('R2 Score is {}'.format(r2_score(actual, predicted)))"
   ]
  },
  {
   "cell_type": "markdown",
   "id": "c0183b13",
   "metadata": {},
   "source": [
    "# ML Model - 1 : Linear Regression"
   ]
  },
  {
   "cell_type": "code",
   "execution_count": 64,
   "id": "0d846910",
   "metadata": {},
   "outputs": [],
   "source": [
    "# ML Model - 1 Implementation\n",
    "regressor = LinearRegression()\n",
    "\n",
    "# Fit the Algorithm\n",
    "regressor.fit(X_train,y_train)\n",
    "# Predict on the model\n",
    "\n",
    "y_train_pred = regressor.predict(X_train)\n",
    "\n",
    "y_test_pred = regressor.predict(X_test)"
   ]
  },
  {
   "cell_type": "markdown",
   "id": "48d9cf1a",
   "metadata": {},
   "source": [
    "Explain the ML Model used and it's performance using Evaluation metric"
   ]
  },
  {
   "cell_type": "code",
   "execution_count": 65,
   "id": "ffa79bc7",
   "metadata": {},
   "outputs": [
    {
     "name": "stdout",
     "output_type": "stream",
     "text": [
      "MSE is 45.0405681533577\n",
      "RMSE is 6.711227022933861\n",
      "MAE is 4.587239406087884\n",
      "MAPE is 154.50643557025214\n",
      "R2 Score is 0.3749263207667255\n",
      "Adjusted R2 :  0.37038858080858916\n"
     ]
    }
   ],
   "source": [
    "# Visualizing evaluation Metric Score chart\n",
    "\n",
    "#Train data evaluation\n",
    "evaluate_metric(y_train,y_train_pred)\n",
    "print(\"Adjusted R2 : \",1-(1-r2_score((y_train), (y_train_pred)))*((X_train.shape[0]-1)/(X_train.shape[0]-X_train.shape[1]-1)))\n",
    "     "
   ]
  },
  {
   "cell_type": "code",
   "execution_count": 66,
   "id": "06c5fbcf",
   "metadata": {},
   "outputs": [
    {
     "name": "stdout",
     "output_type": "stream",
     "text": [
      "MSE is 54.679866221464074\n",
      "RMSE is 7.394583573228723\n",
      "MAE is 5.085380756045138\n",
      "MAPE is 175.4156473597683\n",
      "R2 Score is 0.35128695779130914\n",
      "Adjusted R2 :  0.3320341387315293\n"
     ]
    }
   ],
   "source": [
    "#Test data evaluation\n",
    "evaluate_metric(y_test,y_test_pred)\n",
    "print(\"Adjusted R2 : \",1-(1-r2_score((y_test), (y_test_pred)))*((X_test.shape[0]-1)/(X_test.shape[0]-X_test.shape[1]-1)))"
   ]
  },
  {
   "cell_type": "markdown",
   "id": "7310b4b9",
   "metadata": {},
   "source": [
    "Linear Regression is not giving good results on data, hence trying regularized linear regression models"
   ]
  },
  {
   "cell_type": "markdown",
   "id": "88c2fb31",
   "metadata": {},
   "source": [
    "# ML Model - 2 : Lasso"
   ]
  },
  {
   "cell_type": "code",
   "execution_count": 67,
   "id": "bc0b121a",
   "metadata": {},
   "outputs": [],
   "source": [
    "# ML Model - 2 Implementation\n",
    "lasso  = Lasso(alpha=0.1 , max_iter= 3000)\n",
    "\n",
    "# Fit the Algorithm\n",
    "lasso.fit(X_train, y_train)\n",
    "\n",
    "# Predict on the model\n",
    "y_train_pred = lasso.predict(X_train)\n",
    "\n",
    "y_test_pred = lasso.predict(X_test)\n",
    "     "
   ]
  },
  {
   "cell_type": "markdown",
   "id": "5ab86ec5",
   "metadata": {},
   "source": [
    "# 1. Explain the ML Model used and it's performance using Evaluation metric."
   ]
  },
  {
   "cell_type": "code",
   "execution_count": 68,
   "id": "d9a477d6",
   "metadata": {},
   "outputs": [
    {
     "name": "stdout",
     "output_type": "stream",
     "text": [
      "MSE is 47.595943570987046\n",
      "RMSE is 6.898981342994562\n",
      "MAE is 4.77579263908626\n",
      "MAPE is 161.87358498726869\n",
      "R2 Score is 0.33946278245874417\n",
      "Adjusted R2 :  0.3346675939466479\n"
     ]
    }
   ],
   "source": [
    "\n",
    "\n",
    "\n",
    "#Train data evaluation\n",
    "evaluate_metric(y_train,y_train_pred)\n",
    "print(\"Adjusted R2 : \",1-(1-r2_score((y_train), (y_train_pred)))*((X_train.shape[0]-1)/(X_train.shape[0]-X_train.shape[1]-1)))\n",
    "     "
   ]
  },
  {
   "cell_type": "code",
   "execution_count": 69,
   "id": "80cbfbd1",
   "metadata": {},
   "outputs": [
    {
     "name": "stdout",
     "output_type": "stream",
     "text": [
      "MSE is 56.41655709362023\n",
      "RMSE is 7.511095598753902\n",
      "MAE is 5.222023600071208\n",
      "MAPE is 178.78852809624385\n",
      "R2 Score is 0.33068313966034524\n",
      "Adjusted R2 :  0.31081883053237525\n"
     ]
    }
   ],
   "source": [
    "#Test data evaluation\n",
    "evaluate_metric(y_test,y_test_pred)\n",
    "print(\"Adjusted R2 : \",1-(1-r2_score((y_test), (y_test_pred)))*((X_test.shape[0]-1)/(X_test.shape[0]-X_test.shape[1]-1)))\n",
    "     "
   ]
  },
  {
   "cell_type": "markdown",
   "id": "9a3189cd",
   "metadata": {},
   "source": [
    "# 2. Cross- Validation & Hyperparameter Tuning"
   ]
  },
  {
   "cell_type": "code",
   "execution_count": 70,
   "id": "dde5489b",
   "metadata": {},
   "outputs": [],
   "source": [
    "from sklearn.model_selection import GridSearchCV"
   ]
  },
  {
   "cell_type": "code",
   "execution_count": 71,
   "id": "3d79eb13",
   "metadata": {},
   "outputs": [
    {
     "name": "stdout",
     "output_type": "stream",
     "text": [
      "The best fit alpha value is found out to be : {'alpha': 10}\n",
      "\n",
      "Using  {'alpha': 10}  the negative mean squared error is:  -58.63684467021881\n"
     ]
    }
   ],
   "source": [
    "# ML Model - 2 Implementation with hyperparameter optimization techniques\n",
    "lasso = Lasso()\n",
    "parameters = {'alpha': [1e-15,1e-13,1e-10,1e-8,1e-5,1e-4,1e-3,1e-2,1e-1,1,5,10,20,30,40,45,50,55,60,100]}\n",
    "lasso_regressor = GridSearchCV(lasso, parameters, scoring='neg_mean_squared_error', cv=3)\n",
    "\n",
    "# Fit the Algorithm\n",
    "lasso_regressor.fit(X, y)\n",
    "\n",
    "print(\"The best fit alpha value is found out to be :\" ,lasso_regressor.best_params_)\n",
    "print(\"\\nUsing \",lasso_regressor.best_params_, \" the negative mean squared error is: \", lasso_regressor.best_score_)\n",
    "\n",
    "# Predict on the model\n",
    "y_train_pred = lasso_regressor.predict(X_train)\n",
    "\n",
    "y_test_pred = lasso_regressor.predict(X_test)"
   ]
  },
  {
   "cell_type": "code",
   "execution_count": 72,
   "id": "0feb4812",
   "metadata": {},
   "outputs": [
    {
     "name": "stdout",
     "output_type": "stream",
     "text": [
      "MSE is 55.748430365885994\n",
      "RMSE is 7.466487150319486\n",
      "MAE is 5.421524166497751\n",
      "MAPE is 185.35035568406423\n",
      "R2 Score is 0.2263224486504044\n",
      "Adjusted R2 :  0.22070591470231293\n"
     ]
    }
   ],
   "source": [
    "#Train data evaluation\n",
    "evaluate_metric(y_train,y_train_pred)\n",
    "print(\"Adjusted R2 : \",1-(1-r2_score((y_train), (y_train_pred)))*((X_train.shape[0]-1)/(X_train.shape[0]-X_train.shape[1]-1))) "
   ]
  },
  {
   "cell_type": "code",
   "execution_count": 73,
   "id": "f3792ba6",
   "metadata": {},
   "outputs": [
    {
     "name": "stdout",
     "output_type": "stream",
     "text": [
      "MSE is 63.37231360926295\n",
      "RMSE is 7.96067293696098\n",
      "MAE is 5.697304892714697\n",
      "MAPE is 195.28449126083737\n",
      "R2 Score is 0.248161175326163\n",
      "Adjusted R2 :  0.22584773947434256\n"
     ]
    }
   ],
   "source": [
    "#Test data evaluation\n",
    "evaluate_metric(y_test,y_test_pred)\n",
    "print(\"Adjusted R2 : \",1-(1-r2_score((y_test), (y_test_pred)))*((X_test.shape[0]-1)/(X_test.shape[0]-X_test.shape[1]-1)))\n",
    "     "
   ]
  },
  {
   "cell_type": "markdown",
   "id": "a05b315c",
   "metadata": {},
   "source": [
    "# Which hyperparameter optimization technique have you used and why?\n",
    "GridSearchCV is used to tune hyperparameter, The best fit alpha value is found out to be : {'alpha': 0.01}\n",
    "\n",
    "# Have you seen any improvement? Note down the improvement with updates Evaluation metric Score Chart.\n",
    "The model has accuracy has decreased overall and does not give good results."
   ]
  },
  {
   "cell_type": "markdown",
   "id": "36265c3a",
   "metadata": {},
   "source": [
    "# ML Model - 3 : Ridge"
   ]
  },
  {
   "cell_type": "code",
   "execution_count": 74,
   "id": "6f600afc",
   "metadata": {},
   "outputs": [],
   "source": [
    "# ML Model - 3 Implementation\n",
    "ridge = Ridge()\n",
    "\n",
    "# Fit the Algorithm\n",
    "ridge.fit(X_train,y_train)\n",
    "\n",
    "# Predict on the model\n",
    "y_train_pred = ridge.predict(X_train)\n",
    "\n",
    "y_test_pred = ridge.predict(X_test)"
   ]
  },
  {
   "cell_type": "markdown",
   "id": "190250b9",
   "metadata": {},
   "source": [
    "# 2. Cross- Validation & Hyperparameter Tuning"
   ]
  },
  {
   "cell_type": "code",
   "execution_count": 75,
   "id": "226b48da",
   "metadata": {},
   "outputs": [],
   "source": [
    "# ML Model - 3 Implementation with hyperparameter optimization techniques\n",
    "ridge = Ridge()\n",
    "parameters = {'alpha': [1e-15,1e-10,1e-8,1e-5,1e-4,1e-3,1e-2,1,5,10,20,30,40,45,50,55,60,100]}\n",
    "ridge_regressor = GridSearchCV(ridge, parameters, scoring='neg_mean_squared_error', cv=3)\n",
    "\n",
    "# Fit the Algorithm\n",
    "ridge_regressor.fit(X,y)\n",
    "\n",
    "# Predict on the model\n",
    "y_train_pred = ridge_regressor.predict(X_train)\n",
    "\n",
    "y_test_pred = ridge_regressor.predict(X_test)"
   ]
  },
  {
   "cell_type": "markdown",
   "id": "01046a11",
   "metadata": {},
   "source": [
    "# Train data evaluation\n",
    "evaluate_metric(y_train,y_train_pred)\n",
    "print(\"Adjusted R2 : \",1-(1-r2_score((y_train), (y_train_pred)))*((X_train.shape[0]-1)/(X_train.shape[0]-X_train.shape[1]-1)))\n",
    "     "
   ]
  },
  {
   "cell_type": "code",
   "execution_count": 76,
   "id": "edf8a4bf",
   "metadata": {},
   "outputs": [
    {
     "name": "stdout",
     "output_type": "stream",
     "text": [
      "MSE is 54.23942344998317\n",
      "RMSE is 7.364741913331598\n",
      "MAE is 5.0669638010227365\n",
      "MAPE is 175.03164275972827\n",
      "R2 Score is 0.3565122992186086\n",
      "Adjusted R2 :  0.3374145603660693\n"
     ]
    }
   ],
   "source": [
    "#Test data evaluation\n",
    "evaluate_metric(y_test,y_test_pred)\n",
    "print(\"Adjusted R2 : \",1-(1-r2_score((y_test), (y_test_pred)))*((X_test.shape[0]-1)/(X_test.shape[0]-X_test.shape[1]-1)))"
   ]
  },
  {
   "cell_type": "markdown",
   "id": "d4e6a2a0",
   "metadata": {},
   "source": [
    "# Which hyperparameter optimization technique have you used and why?\n",
    "GridSearchCV is used to tune hyperparameter, The best fit alpha value is found out to be : {'alpha': 1}\n",
    "\n",
    "# Have you seen any improvement? Note down the improvement with updates Evaluation metric Score Chart.\n",
    "GridSearchCV has little effect on L2 Regression, has not changed the model accuracy much and overfitting still exists.\n",
    "\n"
   ]
  },
  {
   "cell_type": "markdown",
   "id": "0743ece8",
   "metadata": {},
   "source": [
    "# Now testing Non Linear models"
   ]
  },
  {
   "cell_type": "markdown",
   "id": "75750add",
   "metadata": {},
   "source": [
    "# ML Model - 4 : Random Forest"
   ]
  },
  {
   "cell_type": "code",
   "execution_count": 77,
   "id": "f1e10419",
   "metadata": {},
   "outputs": [],
   "source": [
    "import numpy as np\n",
    "from sklearn.model_selection import GridSearchCV\n",
    "from sklearn.ensemble import RandomForestRegressor"
   ]
  },
  {
   "cell_type": "code",
   "execution_count": 78,
   "id": "56fe62e5",
   "metadata": {},
   "outputs": [],
   "source": [
    "# ML Model - 4 Implementation\n",
    "from sklearn.ensemble import RandomForestRegressor\n",
    "rfr = RandomForestRegressor()\n",
    "\n",
    "# Fit the Algorithm\n",
    "rfr.fit(X_train,y_train)\n",
    "\n",
    "# Predict on the model\n",
    "y_train_pred = rfr.predict(X_train)\n",
    "\n",
    "y_test_pred = rfr.predict(X_test)\n",
    "\n"
   ]
  },
  {
   "cell_type": "markdown",
   "id": "fca156b4",
   "metadata": {},
   "source": [
    "# 1. Explain the ML Model used and it's performance using Evaluation metric Score Chart."
   ]
  },
  {
   "cell_type": "code",
   "execution_count": 79,
   "id": "6df041dc",
   "metadata": {},
   "outputs": [
    {
     "name": "stdout",
     "output_type": "stream",
     "text": [
      "MSE is 4.172488548974199\n",
      "RMSE is 2.042667018623985\n",
      "MAE is 1.327829441931785\n",
      "MAPE is 39.27647476947286\n",
      "R2 Score is 0.942094141441873\n",
      "Adjusted R2 :  0.9416737722327395\n"
     ]
    }
   ],
   "source": [
    "#Train data evaluation\n",
    "evaluate_metric(y_train,y_train_pred)\n",
    "print(\"Adjusted R2 : \",1-(1-r2_score((y_train), (y_train_pred)))*((X_train.shape[0]-1)/(X_train.shape[0]-X_train.shape[1]-1)))\n",
    "     "
   ]
  },
  {
   "cell_type": "code",
   "execution_count": 80,
   "id": "bcd8c3c6",
   "metadata": {},
   "outputs": [
    {
     "name": "stdout",
     "output_type": "stream",
     "text": [
      "MSE is 30.799411569514813\n",
      "RMSE is 5.549721756044605\n",
      "MAE is 3.38849639385724\n",
      "MAPE is 102.94424489352514\n",
      "R2 Score is 0.634600788952652\n",
      "Adjusted R2 :  0.6237562946429203\n"
     ]
    }
   ],
   "source": [
    "#Test data evaluation\n",
    "evaluate_metric(y_test,y_test_pred)\n",
    "print(\"Adjusted R2 : \",1-(1-r2_score((y_test), (y_test_pred)))*((X_test.shape[0]-1)/(X_test.shape[0]-X_test.shape[1]-1)))\n",
    "     "
   ]
  },
  {
   "cell_type": "markdown",
   "id": "68851af3",
   "metadata": {},
   "source": [
    "\n",
    "Looks like the model causes overfitting, hence trying hyperparameter tuning."
   ]
  },
  {
   "cell_type": "markdown",
   "id": "f75d2770",
   "metadata": {},
   "source": [
    "# Which hyperparameter optimization technique have you used and why?\n",
    "GridSearchCV is used to tune hyperparameter, The best hyperparameter values are: {'max_depth': 60, 'n_estimators': 400}\n",
    "\n",
    "# Have you seen any improvement? Note down the improvement with updates Evaluation metric Score Chart.\n",
    "By using GridSearchCV, the training accuracy have increase slightly, but the test accuracy has increased a lot, hence, the problem of overfitting which was faced in train_test_split method is removed."
   ]
  },
  {
   "cell_type": "markdown",
   "id": "f7881eaa",
   "metadata": {},
   "source": [
    "# ML Model - 5 : XGBoost"
   ]
  },
  {
   "cell_type": "code",
   "execution_count": 81,
   "id": "23df47f8",
   "metadata": {},
   "outputs": [],
   "source": [
    "# ML Model - 5 Implementation\n",
    "import xgboost as xgb\n",
    "xgbr = xgb.XGBRegressor()\n",
    "\n",
    "# Fit the Algorithm\n",
    "xgbr.fit(X_train,y_train)\n",
    "\n",
    "# Predict on the model\n",
    "y_train_pred = xgbr.predict(X_train)\n",
    "\n",
    "y_test_pred = xgbr.predict(X_test)\n",
    "     "
   ]
  },
  {
   "cell_type": "code",
   "execution_count": 82,
   "id": "0ba666e9",
   "metadata": {},
   "outputs": [
    {
     "name": "stdout",
     "output_type": "stream",
     "text": [
      "MSE is 4.531958010013782\n",
      "RMSE is 2.1288395923633567\n",
      "MAE is 1.4856268842827627\n",
      "MAPE is 44.012183719123755\n",
      "R2 Score is 0.9371054188791612\n",
      "Adjusted R2 :  0.9366488338982477\n"
     ]
    }
   ],
   "source": [
    "#Train data evaluation\n",
    "evaluate_metric(y_train,y_train_pred)\n",
    "print(\"Adjusted R2 : \",1-(1-r2_score((y_train), (y_train_pred)))*((X_train.shape[0]-1)/(X_train.shape[0]-X_train.shape[1]-1)))\n",
    "     "
   ]
  },
  {
   "cell_type": "code",
   "execution_count": 83,
   "id": "97356985",
   "metadata": {},
   "outputs": [
    {
     "name": "stdout",
     "output_type": "stream",
     "text": [
      "MSE is 32.268932531923625\n",
      "RMSE is 5.680575017718156\n",
      "MAE is 3.5130020734496417\n",
      "MAPE is 104.42511859395563\n",
      "R2 Score is 0.6171666311905861\n",
      "Adjusted R2 :  0.6058047175243546\n"
     ]
    }
   ],
   "source": [
    "#Test data evaluation\n",
    "evaluate_metric(y_test,y_test_pred)\n",
    "print(\"Adjusted R2 : \",1-(1-r2_score((y_test), (y_test_pred)))*((X_test.shape[0]-1)/(X_test.shape[0]-X_test.shape[1]-1)))\n",
    "     "
   ]
  },
  {
   "cell_type": "markdown",
   "id": "30eadb22",
   "metadata": {},
   "source": [
    "\n",
    "Looks like the model causes overfitting, hence trying hyperparameter tuning."
   ]
  },
  {
   "cell_type": "markdown",
   "id": "c7f62bab",
   "metadata": {},
   "source": [
    "# 2. Cross- Validation & Hyperparameter Tuning"
   ]
  },
  {
   "cell_type": "code",
   "execution_count": 84,
   "id": "52be5d18",
   "metadata": {},
   "outputs": [
    {
     "name": "stdout",
     "output_type": "stream",
     "text": [
      "{'max_depth': [6, 8, 10, 12], 'min_child_weight': [7, 8, 10, 12]}\n",
      "Fitting 3 folds for each of 16 candidates, totalling 48 fits\n",
      "{'max_depth': 6, 'min_child_weight': 12}\n"
     ]
    }
   ],
   "source": [
    "# ML Model - 5 Implementation with hyperparameter optimization techniques\n",
    "n_estimators = [int(x) for x in np.linspace(start = 400, stop = 1000, num = 4)]\n",
    "\n",
    "max_depth= [6, 8, 10, 12]\n",
    "min_child_weight= [7, 8, 10, 12]\n",
    "\n",
    "# Create the random grid\n",
    "xgb_grid_params_dict = {\n",
    "         'max_depth': max_depth,\n",
    "         'min_child_weight': min_child_weight\n",
    "                         }\n",
    "print(xgb_grid_params_dict)\n",
    "\n",
    "\n",
    "xgbr = xgb.XGBRegressor(objective='reg:squarederror', random_state = 3)\n",
    "\n",
    "# Grid Search of parameters, using 3 fold cross validation,\n",
    "xgbr_grid = GridSearchCV(estimator = xgbr, param_grid = xgb_grid_params_dict, cv = 3, verbose=2, n_jobs = -1)\n",
    "\n",
    "# Fit the Algorithm\n",
    "xgbr_grid.fit(X,y)\n",
    "\n",
    "\n",
    "print(xgbr_grid.best_params_)"
   ]
  },
  {
   "cell_type": "code",
   "execution_count": 85,
   "id": "2730dd4b",
   "metadata": {},
   "outputs": [
    {
     "data": {
      "text/plain": [
       "XGBRegressor(base_score=None, booster=None, callbacks=None,\n",
       "             colsample_bylevel=None, colsample_bynode=None,\n",
       "             colsample_bytree=None, device=None, early_stopping_rounds=None,\n",
       "             enable_categorical=False, eval_metric=None, feature_types=None,\n",
       "             gamma=None, grow_policy=None, importance_type=None,\n",
       "             interaction_constraints=None, learning_rate=None, max_bin=None,\n",
       "             max_cat_threshold=None, max_cat_to_onehot=None,\n",
       "             max_delta_step=None, max_depth=6, max_leaves=None,\n",
       "             min_child_weight=12, missing=nan, monotone_constraints=None,\n",
       "             multi_strategy=None, n_estimators=None, n_jobs=None,\n",
       "             num_parallel_tree=None, random_state=3, ...)"
      ]
     },
     "execution_count": 85,
     "metadata": {},
     "output_type": "execute_result"
    }
   ],
   "source": [
    "xgbr_grid.best_estimator_"
   ]
  },
  {
   "cell_type": "code",
   "execution_count": 86,
   "id": "54bb0f43",
   "metadata": {},
   "outputs": [],
   "source": [
    "\n",
    "#Taking best params and creating a new regressor\n",
    "xgbr_optimal_model =xgbr_grid.best_estimator_\n",
    "\n",
    "# Predict on the model\n",
    "y_train_pred = xgbr_optimal_model.predict(X_train)\n",
    "\n",
    "y_test_pred = xgbr_optimal_model.predict(X_test)"
   ]
  },
  {
   "cell_type": "code",
   "execution_count": 87,
   "id": "1b970e6b",
   "metadata": {},
   "outputs": [
    {
     "name": "stdout",
     "output_type": "stream",
     "text": [
      "MSE is 9.17436419928673\n",
      "RMSE is 3.0289212930161673\n",
      "MAE is 2.0691883045792454\n",
      "MAPE is 60.76060667638309\n",
      "R2 Score is 0.8726780362728022\n",
      "Adjusted R2 :  0.8717537388954723\n"
     ]
    }
   ],
   "source": [
    "#Train data evaluation\n",
    "evaluate_metric(y_train,y_train_pred)\n",
    "print(\"Adjusted R2 : \",1-(1-r2_score((y_train), (y_train_pred)))*((X_train.shape[0]-1)/(X_train.shape[0]-X_train.shape[1]-1)))\n",
    "     "
   ]
  },
  {
   "cell_type": "code",
   "execution_count": 88,
   "id": "e77f119b",
   "metadata": {},
   "outputs": [
    {
     "name": "stdout",
     "output_type": "stream",
     "text": [
      "MSE is 9.931887702352554\n",
      "RMSE is 3.151489759201599\n",
      "MAE is 2.1048490334093573\n",
      "MAPE is 61.91844587729097\n",
      "R2 Score is 0.8821696991691049\n",
      "Adjusted R2 :  0.8786726745772564\n"
     ]
    }
   ],
   "source": [
    "#Test data evaluation\n",
    "evaluate_metric(y_test,y_test_pred)\n",
    "print(\"Adjusted R2 : \",1-(1-r2_score((y_test), (y_test_pred)))*((X_test.shape[0]-1)/(X_test.shape[0]-X_test.shape[1]-1)))\n",
    "     "
   ]
  },
  {
   "cell_type": "markdown",
   "id": "260260aa",
   "metadata": {},
   "source": [
    "# Which hyperparameter optimization technique have you used and why?\n",
    "GridSearchCV is used to tune hyperparameter, The best fit values are found out to be : {'max_depth': 6, 'min_child_weight': 8}\n",
    "\n",
    "# Have you seen any improvement? Note down the improvement with updates Evaluation metric Score Chart.\n",
    "By using GridSearchCV, the training accuracy have increase slightly, but the test accuracy has increased a lot, hence, the problem of overfitting which was faced in train_test_split method is removed."
   ]
  },
  {
   "cell_type": "markdown",
   "id": "d35d13ff",
   "metadata": {},
   "source": [
    "# 1. Which Evaluation metrics did you consider for a positive business impact and why?\n",
    "The following evalutation metrics were chosen:\n",
    "\n",
    "1.Mean Squared Error (MSE)\n",
    "\n",
    "2.Root Mean Squared Error (RMSE)\n",
    "\n",
    "3.Mean Absolute Error (MAE)\n",
    "\n",
    "4.Mean Absolute Percentage Error (MAPE)\n",
    "\n",
    "5.R2 Score\n",
    "\n",
    "6.Adjusted R2 Score"
   ]
  },
  {
   "cell_type": "markdown",
   "id": "8bfb5ab0",
   "metadata": {},
   "source": [
    "# 3. Explain the model which you have used and the feature importance using any model explainability tool?"
   ]
  },
  {
   "cell_type": "code",
   "execution_count": null,
   "id": "f4eb75aa",
   "metadata": {},
   "outputs": [],
   "source": [
    "Final Prediction Model : xgbr_grid = GridSearchCV(estimator = xgbr, param_grid = xgb_grid_params_dict, cv = 3, verbose=2, n_jobs = -1)\n",
    "\n",
    "Performance on test data:\n",
    "\n",
    "R2 Score : 0. 882\n",
    "\n",
    "Adjusted R2 : 0. 881"
   ]
  },
  {
   "cell_type": "markdown",
   "id": "d7e25f9e",
   "metadata": {},
   "source": [
    "# Conclusion"
   ]
  },
  {
   "cell_type": "code",
   "execution_count": null,
   "id": "4b292915",
   "metadata": {},
   "outputs": [],
   "source": [
    "\n",
    "In this project, we have used different regression models to predict transport demand from various places to nairobi.\n",
    "\n",
    "Using the data, we have created the target variable and several other features that contribute to our model performance.\n",
    "\n",
    "We have used regression models including:\n",
    "\n",
    "  Linear Models : Linear Regression, Lasso (L1), Ridge (L2)\n",
    "    \n",
    "  Non Linear Models: Random Forest, XGBoost.\n",
    "    \n",
    "  We have also performed hyperparameter tuning to improve the performance of these models.\n",
    "\n",
    "Out of all these models, the hyperparameter tuned XG BOOST gives the best result with an accuracy of around 88%."
   ]
  },
  {
   "cell_type": "code",
   "execution_count": null,
   "id": "0e177fe5",
   "metadata": {},
   "outputs": [],
   "source": []
  }
 ],
 "metadata": {
  "kernelspec": {
   "display_name": "Python 3 (ipykernel)",
   "language": "python",
   "name": "python3"
  },
  "language_info": {
   "codemirror_mode": {
    "name": "ipython",
    "version": 3
   },
   "file_extension": ".py",
   "mimetype": "text/x-python",
   "name": "python",
   "nbconvert_exporter": "python",
   "pygments_lexer": "ipython3",
   "version": "3.9.7"
  }
 },
 "nbformat": 4,
 "nbformat_minor": 5
}
